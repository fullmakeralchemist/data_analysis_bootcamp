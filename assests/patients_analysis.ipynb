{
 "cells": [
  {
   "cell_type": "code",
   "execution_count": 1,
   "id": "aa6d4255-12cb-4529-b415-2dbbc113e845",
   "metadata": {},
   "outputs": [],
   "source": [
    "import pandas as pd\n",
    "import numpy as np\n",
    "import os\n",
    "import matplotlib.pyplot as plt\n",
    "#import seaborn as sns"
   ]
  },
  {
   "cell_type": "markdown",
   "id": "e644d9ab-0453-4d19-963e-7534124f3517",
   "metadata": {},
   "source": [
    "# Conociendo los Datos"
   ]
  },
  {
   "cell_type": "code",
   "execution_count": 2,
   "id": "e0ee3a35-7738-421e-929a-678ee9f378ef",
   "metadata": {},
   "outputs": [
    {
     "name": "stderr",
     "output_type": "stream",
     "text": [
      "C:\\Users\\fulld\\AppData\\Local\\Temp\\ipykernel_26568\\659061443.py:16: DtypeWarning: Columns (14,17,19,26) have mixed types. Specify dtype option on import or set low_memory=False.\n",
      "  df = pd.read_csv(file_path)\n",
      "C:\\Users\\fulld\\AppData\\Local\\Temp\\ipykernel_26568\\659061443.py:16: DtypeWarning: Columns (0,14,17,19,26) have mixed types. Specify dtype option on import or set low_memory=False.\n",
      "  df = pd.read_csv(file_path)\n"
     ]
    },
    {
     "data": {
      "text/plain": [
       "'\\n# Save the combined DataFrame to a new CSV file\\ncombined_df.to_csv(\\'combined_patient_satisfaction.csv\\', index=False)\\n\\nprint(\"CSV files have been combined and saved as \\'combined_patient_satisfaction.csv\\'\")\\n'"
      ]
     },
     "execution_count": 2,
     "metadata": {},
     "output_type": "execute_result"
    }
   ],
   "source": [
    "# Directory where your CSV files are stored\n",
    "csv_directory = 'data'\n",
    "\n",
    "# List of years corresponding to the CSV files\n",
    "years = [2016, 2017, 2018, 2019, 2020]\n",
    "\n",
    "# Initialize an empty list to store the DataFrames\n",
    "dataframes = []\n",
    "\n",
    "# Loop through each year, read the respective CSV, and add the year column\n",
    "for year in years:\n",
    "    # Construct the file name for each year\n",
    "    file_path = os.path.join(csv_directory, f'cms_hospital_patient_satisfaction_{year}.csv')\n",
    "    \n",
    "    # Read the CSV into a DataFrame\n",
    "    df = pd.read_csv(file_path)\n",
    "    \n",
    "    # Add a column for the year\n",
    "    df['Year'] = year\n",
    "    \n",
    "    # Append the DataFrame to the list\n",
    "    dataframes.append(df)\n",
    "\n",
    "# Concatenate all DataFrames into one\n",
    "combined_df = pd.concat(dataframes, ignore_index=True)\n",
    "'''\n",
    "# Save the combined DataFrame to a new CSV file\n",
    "combined_df.to_csv('combined_patient_satisfaction.csv', index=False)\n",
    "\n",
    "print(\"CSV files have been combined and saved as 'combined_patient_satisfaction.csv'\")\n",
    "'''"
   ]
  },
  {
   "cell_type": "code",
   "execution_count": 3,
   "id": "9a5723b7-303d-479f-a669-07298c880d3e",
   "metadata": {},
   "outputs": [
    {
     "data": {
      "text/html": [
       "<div>\n",
       "<style scoped>\n",
       "    .dataframe tbody tr th:only-of-type {\n",
       "        vertical-align: middle;\n",
       "    }\n",
       "\n",
       "    .dataframe tbody tr th {\n",
       "        vertical-align: top;\n",
       "    }\n",
       "\n",
       "    .dataframe thead th {\n",
       "        text-align: right;\n",
       "    }\n",
       "</style>\n",
       "<table border=\"1\" class=\"dataframe\">\n",
       "  <thead>\n",
       "    <tr style=\"text-align: right;\">\n",
       "      <th></th>\n",
       "      <th>Facility ID</th>\n",
       "      <th>Facility Name</th>\n",
       "      <th>Address</th>\n",
       "      <th>City</th>\n",
       "      <th>State</th>\n",
       "      <th>ZIP Code</th>\n",
       "      <th>County Name</th>\n",
       "      <th>Phone Number</th>\n",
       "      <th>HCAHPS Measure ID</th>\n",
       "      <th>HCAHPS Question</th>\n",
       "      <th>...</th>\n",
       "      <th>Readmission national comparison</th>\n",
       "      <th>Readmission national comparison footnote</th>\n",
       "      <th>Patient experience national comparison</th>\n",
       "      <th>Patient experience national comparison footnote</th>\n",
       "      <th>Effectiveness of care national comparison</th>\n",
       "      <th>Effectiveness of care national comparison footnote</th>\n",
       "      <th>Timeliness of care national comparison</th>\n",
       "      <th>Timeliness of care national comparison footnote</th>\n",
       "      <th>Efficient use of medical imaging national comparison</th>\n",
       "      <th>Efficient use of medical imaging national comparison footnote</th>\n",
       "    </tr>\n",
       "  </thead>\n",
       "  <tbody>\n",
       "    <tr>\n",
       "      <th>0</th>\n",
       "      <td>10001</td>\n",
       "      <td>SOUTHEAST ALABAMA MEDICAL CENTER</td>\n",
       "      <td>1108 ROSS CLARK CIRCLE</td>\n",
       "      <td>DOTHAN</td>\n",
       "      <td>AL</td>\n",
       "      <td>36301</td>\n",
       "      <td>HOUSTON</td>\n",
       "      <td>3347938701</td>\n",
       "      <td>H_STAR_RATING</td>\n",
       "      <td>Summary star rating</td>\n",
       "      <td>...</td>\n",
       "      <td>Same as the National average</td>\n",
       "      <td>NaN</td>\n",
       "      <td>Below the National average</td>\n",
       "      <td>NaN</td>\n",
       "      <td>Same as the National average</td>\n",
       "      <td>NaN</td>\n",
       "      <td>Same as the National average</td>\n",
       "      <td>NaN</td>\n",
       "      <td>Same as the National average</td>\n",
       "      <td>NaN</td>\n",
       "    </tr>\n",
       "    <tr>\n",
       "      <th>1</th>\n",
       "      <td>10001</td>\n",
       "      <td>SOUTHEAST ALABAMA MEDICAL CENTER</td>\n",
       "      <td>1108 ROSS CLARK CIRCLE</td>\n",
       "      <td>DOTHAN</td>\n",
       "      <td>AL</td>\n",
       "      <td>36301</td>\n",
       "      <td>HOUSTON</td>\n",
       "      <td>3347938701</td>\n",
       "      <td>H_CLEAN_HSP_A_P</td>\n",
       "      <td>Patients who reported that their room and bath...</td>\n",
       "      <td>...</td>\n",
       "      <td>Same as the National average</td>\n",
       "      <td>NaN</td>\n",
       "      <td>Below the National average</td>\n",
       "      <td>NaN</td>\n",
       "      <td>Same as the National average</td>\n",
       "      <td>NaN</td>\n",
       "      <td>Same as the National average</td>\n",
       "      <td>NaN</td>\n",
       "      <td>Same as the National average</td>\n",
       "      <td>NaN</td>\n",
       "    </tr>\n",
       "    <tr>\n",
       "      <th>2</th>\n",
       "      <td>10001</td>\n",
       "      <td>SOUTHEAST ALABAMA MEDICAL CENTER</td>\n",
       "      <td>1108 ROSS CLARK CIRCLE</td>\n",
       "      <td>DOTHAN</td>\n",
       "      <td>AL</td>\n",
       "      <td>36301</td>\n",
       "      <td>HOUSTON</td>\n",
       "      <td>3347938701</td>\n",
       "      <td>H_CLEAN_HSP_SN_P</td>\n",
       "      <td>Patients who reported that their room and bath...</td>\n",
       "      <td>...</td>\n",
       "      <td>Same as the National average</td>\n",
       "      <td>NaN</td>\n",
       "      <td>Below the National average</td>\n",
       "      <td>NaN</td>\n",
       "      <td>Same as the National average</td>\n",
       "      <td>NaN</td>\n",
       "      <td>Same as the National average</td>\n",
       "      <td>NaN</td>\n",
       "      <td>Same as the National average</td>\n",
       "      <td>NaN</td>\n",
       "    </tr>\n",
       "    <tr>\n",
       "      <th>3</th>\n",
       "      <td>10001</td>\n",
       "      <td>SOUTHEAST ALABAMA MEDICAL CENTER</td>\n",
       "      <td>1108 ROSS CLARK CIRCLE</td>\n",
       "      <td>DOTHAN</td>\n",
       "      <td>AL</td>\n",
       "      <td>36301</td>\n",
       "      <td>HOUSTON</td>\n",
       "      <td>3347938701</td>\n",
       "      <td>H_CLEAN_HSP_U_P</td>\n",
       "      <td>Patients who reported that their room and bath...</td>\n",
       "      <td>...</td>\n",
       "      <td>Same as the National average</td>\n",
       "      <td>NaN</td>\n",
       "      <td>Below the National average</td>\n",
       "      <td>NaN</td>\n",
       "      <td>Same as the National average</td>\n",
       "      <td>NaN</td>\n",
       "      <td>Same as the National average</td>\n",
       "      <td>NaN</td>\n",
       "      <td>Same as the National average</td>\n",
       "      <td>NaN</td>\n",
       "    </tr>\n",
       "    <tr>\n",
       "      <th>4</th>\n",
       "      <td>10001</td>\n",
       "      <td>SOUTHEAST ALABAMA MEDICAL CENTER</td>\n",
       "      <td>1108 ROSS CLARK CIRCLE</td>\n",
       "      <td>DOTHAN</td>\n",
       "      <td>AL</td>\n",
       "      <td>36301</td>\n",
       "      <td>HOUSTON</td>\n",
       "      <td>3347938701</td>\n",
       "      <td>H_CLEAN_LINEAR_SCORE</td>\n",
       "      <td>Cleanliness - linear mean score</td>\n",
       "      <td>...</td>\n",
       "      <td>Same as the National average</td>\n",
       "      <td>NaN</td>\n",
       "      <td>Below the National average</td>\n",
       "      <td>NaN</td>\n",
       "      <td>Same as the National average</td>\n",
       "      <td>NaN</td>\n",
       "      <td>Same as the National average</td>\n",
       "      <td>NaN</td>\n",
       "      <td>Same as the National average</td>\n",
       "      <td>NaN</td>\n",
       "    </tr>\n",
       "    <tr>\n",
       "      <th>...</th>\n",
       "      <td>...</td>\n",
       "      <td>...</td>\n",
       "      <td>...</td>\n",
       "      <td>...</td>\n",
       "      <td>...</td>\n",
       "      <td>...</td>\n",
       "      <td>...</td>\n",
       "      <td>...</td>\n",
       "      <td>...</td>\n",
       "      <td>...</td>\n",
       "      <td>...</td>\n",
       "      <td>...</td>\n",
       "      <td>...</td>\n",
       "      <td>...</td>\n",
       "      <td>...</td>\n",
       "      <td>...</td>\n",
       "      <td>...</td>\n",
       "      <td>...</td>\n",
       "      <td>...</td>\n",
       "      <td>...</td>\n",
       "      <td>...</td>\n",
       "    </tr>\n",
       "    <tr>\n",
       "      <th>1653678</th>\n",
       "      <td>670130</td>\n",
       "      <td>SOUTHCROSS HOSPITAL</td>\n",
       "      <td>4243 EAST SOUTHCROSS BLVD SUITE 100</td>\n",
       "      <td>SAN ANTONIO</td>\n",
       "      <td>TX</td>\n",
       "      <td>78222</td>\n",
       "      <td>BEXAR</td>\n",
       "      <td>(210) 507-4392</td>\n",
       "      <td>H_RECMND_DY</td>\n",
       "      <td>Patients who reported YES, they would definite...</td>\n",
       "      <td>...</td>\n",
       "      <td>Not Available</td>\n",
       "      <td>19.0</td>\n",
       "      <td>Not Available</td>\n",
       "      <td>19.0</td>\n",
       "      <td>Not Available</td>\n",
       "      <td>19.0</td>\n",
       "      <td>Not Available</td>\n",
       "      <td>19.0</td>\n",
       "      <td>Not Available</td>\n",
       "      <td>19.0</td>\n",
       "    </tr>\n",
       "    <tr>\n",
       "      <th>1653679</th>\n",
       "      <td>670130</td>\n",
       "      <td>SOUTHCROSS HOSPITAL</td>\n",
       "      <td>4243 EAST SOUTHCROSS BLVD SUITE 100</td>\n",
       "      <td>SAN ANTONIO</td>\n",
       "      <td>TX</td>\n",
       "      <td>78222</td>\n",
       "      <td>BEXAR</td>\n",
       "      <td>(210) 507-4392</td>\n",
       "      <td>H_RECMND_PY</td>\n",
       "      <td>Patients who reported YES, they would probably...</td>\n",
       "      <td>...</td>\n",
       "      <td>Not Available</td>\n",
       "      <td>19.0</td>\n",
       "      <td>Not Available</td>\n",
       "      <td>19.0</td>\n",
       "      <td>Not Available</td>\n",
       "      <td>19.0</td>\n",
       "      <td>Not Available</td>\n",
       "      <td>19.0</td>\n",
       "      <td>Not Available</td>\n",
       "      <td>19.0</td>\n",
       "    </tr>\n",
       "    <tr>\n",
       "      <th>1653680</th>\n",
       "      <td>670130</td>\n",
       "      <td>SOUTHCROSS HOSPITAL</td>\n",
       "      <td>4243 EAST SOUTHCROSS BLVD SUITE 100</td>\n",
       "      <td>SAN ANTONIO</td>\n",
       "      <td>TX</td>\n",
       "      <td>78222</td>\n",
       "      <td>BEXAR</td>\n",
       "      <td>(210) 507-4392</td>\n",
       "      <td>H_RECMND_LINEAR_SCORE</td>\n",
       "      <td>Recommend hospital - linear mean score</td>\n",
       "      <td>...</td>\n",
       "      <td>Not Available</td>\n",
       "      <td>19.0</td>\n",
       "      <td>Not Available</td>\n",
       "      <td>19.0</td>\n",
       "      <td>Not Available</td>\n",
       "      <td>19.0</td>\n",
       "      <td>Not Available</td>\n",
       "      <td>19.0</td>\n",
       "      <td>Not Available</td>\n",
       "      <td>19.0</td>\n",
       "    </tr>\n",
       "    <tr>\n",
       "      <th>1653681</th>\n",
       "      <td>670130</td>\n",
       "      <td>SOUTHCROSS HOSPITAL</td>\n",
       "      <td>4243 EAST SOUTHCROSS BLVD SUITE 100</td>\n",
       "      <td>SAN ANTONIO</td>\n",
       "      <td>TX</td>\n",
       "      <td>78222</td>\n",
       "      <td>BEXAR</td>\n",
       "      <td>(210) 507-4392</td>\n",
       "      <td>H_RECMND_STAR_RATING</td>\n",
       "      <td>Recommend hospital - star rating</td>\n",
       "      <td>...</td>\n",
       "      <td>Not Available</td>\n",
       "      <td>19.0</td>\n",
       "      <td>Not Available</td>\n",
       "      <td>19.0</td>\n",
       "      <td>Not Available</td>\n",
       "      <td>19.0</td>\n",
       "      <td>Not Available</td>\n",
       "      <td>19.0</td>\n",
       "      <td>Not Available</td>\n",
       "      <td>19.0</td>\n",
       "    </tr>\n",
       "    <tr>\n",
       "      <th>1653682</th>\n",
       "      <td>670130</td>\n",
       "      <td>SOUTHCROSS HOSPITAL</td>\n",
       "      <td>4243 EAST SOUTHCROSS BLVD SUITE 100</td>\n",
       "      <td>SAN ANTONIO</td>\n",
       "      <td>TX</td>\n",
       "      <td>78222</td>\n",
       "      <td>BEXAR</td>\n",
       "      <td>(210) 507-4392</td>\n",
       "      <td>H_STAR_RATING</td>\n",
       "      <td>Summary star rating</td>\n",
       "      <td>...</td>\n",
       "      <td>Not Available</td>\n",
       "      <td>19.0</td>\n",
       "      <td>Not Available</td>\n",
       "      <td>19.0</td>\n",
       "      <td>Not Available</td>\n",
       "      <td>19.0</td>\n",
       "      <td>Not Available</td>\n",
       "      <td>19.0</td>\n",
       "      <td>Not Available</td>\n",
       "      <td>19.0</td>\n",
       "    </tr>\n",
       "  </tbody>\n",
       "</table>\n",
       "<p>1653683 rows × 43 columns</p>\n",
       "</div>"
      ],
      "text/plain": [
       "        Facility ID                     Facility Name  \\\n",
       "0             10001  SOUTHEAST ALABAMA MEDICAL CENTER   \n",
       "1             10001  SOUTHEAST ALABAMA MEDICAL CENTER   \n",
       "2             10001  SOUTHEAST ALABAMA MEDICAL CENTER   \n",
       "3             10001  SOUTHEAST ALABAMA MEDICAL CENTER   \n",
       "4             10001  SOUTHEAST ALABAMA MEDICAL CENTER   \n",
       "...             ...                               ...   \n",
       "1653678      670130               SOUTHCROSS HOSPITAL   \n",
       "1653679      670130               SOUTHCROSS HOSPITAL   \n",
       "1653680      670130               SOUTHCROSS HOSPITAL   \n",
       "1653681      670130               SOUTHCROSS HOSPITAL   \n",
       "1653682      670130               SOUTHCROSS HOSPITAL   \n",
       "\n",
       "                                     Address         City State  ZIP Code  \\\n",
       "0                     1108 ROSS CLARK CIRCLE       DOTHAN    AL     36301   \n",
       "1                     1108 ROSS CLARK CIRCLE       DOTHAN    AL     36301   \n",
       "2                     1108 ROSS CLARK CIRCLE       DOTHAN    AL     36301   \n",
       "3                     1108 ROSS CLARK CIRCLE       DOTHAN    AL     36301   \n",
       "4                     1108 ROSS CLARK CIRCLE       DOTHAN    AL     36301   \n",
       "...                                      ...          ...   ...       ...   \n",
       "1653678  4243 EAST SOUTHCROSS BLVD SUITE 100  SAN ANTONIO    TX     78222   \n",
       "1653679  4243 EAST SOUTHCROSS BLVD SUITE 100  SAN ANTONIO    TX     78222   \n",
       "1653680  4243 EAST SOUTHCROSS BLVD SUITE 100  SAN ANTONIO    TX     78222   \n",
       "1653681  4243 EAST SOUTHCROSS BLVD SUITE 100  SAN ANTONIO    TX     78222   \n",
       "1653682  4243 EAST SOUTHCROSS BLVD SUITE 100  SAN ANTONIO    TX     78222   \n",
       "\n",
       "        County Name    Phone Number      HCAHPS Measure ID  \\\n",
       "0           HOUSTON      3347938701          H_STAR_RATING   \n",
       "1           HOUSTON      3347938701        H_CLEAN_HSP_A_P   \n",
       "2           HOUSTON      3347938701       H_CLEAN_HSP_SN_P   \n",
       "3           HOUSTON      3347938701        H_CLEAN_HSP_U_P   \n",
       "4           HOUSTON      3347938701   H_CLEAN_LINEAR_SCORE   \n",
       "...             ...             ...                    ...   \n",
       "1653678       BEXAR  (210) 507-4392            H_RECMND_DY   \n",
       "1653679       BEXAR  (210) 507-4392            H_RECMND_PY   \n",
       "1653680       BEXAR  (210) 507-4392  H_RECMND_LINEAR_SCORE   \n",
       "1653681       BEXAR  (210) 507-4392   H_RECMND_STAR_RATING   \n",
       "1653682       BEXAR  (210) 507-4392          H_STAR_RATING   \n",
       "\n",
       "                                           HCAHPS Question  ...  \\\n",
       "0                                      Summary star rating  ...   \n",
       "1        Patients who reported that their room and bath...  ...   \n",
       "2        Patients who reported that their room and bath...  ...   \n",
       "3        Patients who reported that their room and bath...  ...   \n",
       "4                          Cleanliness - linear mean score  ...   \n",
       "...                                                    ...  ...   \n",
       "1653678  Patients who reported YES, they would definite...  ...   \n",
       "1653679  Patients who reported YES, they would probably...  ...   \n",
       "1653680             Recommend hospital - linear mean score  ...   \n",
       "1653681                   Recommend hospital - star rating  ...   \n",
       "1653682                                Summary star rating  ...   \n",
       "\n",
       "        Readmission national comparison  \\\n",
       "0          Same as the National average   \n",
       "1          Same as the National average   \n",
       "2          Same as the National average   \n",
       "3          Same as the National average   \n",
       "4          Same as the National average   \n",
       "...                                 ...   \n",
       "1653678                   Not Available   \n",
       "1653679                   Not Available   \n",
       "1653680                   Not Available   \n",
       "1653681                   Not Available   \n",
       "1653682                   Not Available   \n",
       "\n",
       "        Readmission national comparison footnote  \\\n",
       "0                                            NaN   \n",
       "1                                            NaN   \n",
       "2                                            NaN   \n",
       "3                                            NaN   \n",
       "4                                            NaN   \n",
       "...                                          ...   \n",
       "1653678                                     19.0   \n",
       "1653679                                     19.0   \n",
       "1653680                                     19.0   \n",
       "1653681                                     19.0   \n",
       "1653682                                     19.0   \n",
       "\n",
       "        Patient experience national comparison  \\\n",
       "0                   Below the National average   \n",
       "1                   Below the National average   \n",
       "2                   Below the National average   \n",
       "3                   Below the National average   \n",
       "4                   Below the National average   \n",
       "...                                        ...   \n",
       "1653678                          Not Available   \n",
       "1653679                          Not Available   \n",
       "1653680                          Not Available   \n",
       "1653681                          Not Available   \n",
       "1653682                          Not Available   \n",
       "\n",
       "        Patient experience national comparison footnote  \\\n",
       "0                                                   NaN   \n",
       "1                                                   NaN   \n",
       "2                                                   NaN   \n",
       "3                                                   NaN   \n",
       "4                                                   NaN   \n",
       "...                                                 ...   \n",
       "1653678                                            19.0   \n",
       "1653679                                            19.0   \n",
       "1653680                                            19.0   \n",
       "1653681                                            19.0   \n",
       "1653682                                            19.0   \n",
       "\n",
       "        Effectiveness of care national comparison  \\\n",
       "0                    Same as the National average   \n",
       "1                    Same as the National average   \n",
       "2                    Same as the National average   \n",
       "3                    Same as the National average   \n",
       "4                    Same as the National average   \n",
       "...                                           ...   \n",
       "1653678                             Not Available   \n",
       "1653679                             Not Available   \n",
       "1653680                             Not Available   \n",
       "1653681                             Not Available   \n",
       "1653682                             Not Available   \n",
       "\n",
       "        Effectiveness of care national comparison footnote  \\\n",
       "0                                                      NaN   \n",
       "1                                                      NaN   \n",
       "2                                                      NaN   \n",
       "3                                                      NaN   \n",
       "4                                                      NaN   \n",
       "...                                                    ...   \n",
       "1653678                                               19.0   \n",
       "1653679                                               19.0   \n",
       "1653680                                               19.0   \n",
       "1653681                                               19.0   \n",
       "1653682                                               19.0   \n",
       "\n",
       "        Timeliness of care national comparison  \\\n",
       "0                 Same as the National average   \n",
       "1                 Same as the National average   \n",
       "2                 Same as the National average   \n",
       "3                 Same as the National average   \n",
       "4                 Same as the National average   \n",
       "...                                        ...   \n",
       "1653678                          Not Available   \n",
       "1653679                          Not Available   \n",
       "1653680                          Not Available   \n",
       "1653681                          Not Available   \n",
       "1653682                          Not Available   \n",
       "\n",
       "        Timeliness of care national comparison footnote  \\\n",
       "0                                                   NaN   \n",
       "1                                                   NaN   \n",
       "2                                                   NaN   \n",
       "3                                                   NaN   \n",
       "4                                                   NaN   \n",
       "...                                                 ...   \n",
       "1653678                                            19.0   \n",
       "1653679                                            19.0   \n",
       "1653680                                            19.0   \n",
       "1653681                                            19.0   \n",
       "1653682                                            19.0   \n",
       "\n",
       "        Efficient use of medical imaging national comparison  \\\n",
       "0                             Same as the National average     \n",
       "1                             Same as the National average     \n",
       "2                             Same as the National average     \n",
       "3                             Same as the National average     \n",
       "4                             Same as the National average     \n",
       "...                                                    ...     \n",
       "1653678                                      Not Available     \n",
       "1653679                                      Not Available     \n",
       "1653680                                      Not Available     \n",
       "1653681                                      Not Available     \n",
       "1653682                                      Not Available     \n",
       "\n",
       "        Efficient use of medical imaging national comparison footnote  \n",
       "0                                                      NaN             \n",
       "1                                                      NaN             \n",
       "2                                                      NaN             \n",
       "3                                                      NaN             \n",
       "4                                                      NaN             \n",
       "...                                                    ...             \n",
       "1653678                                               19.0             \n",
       "1653679                                               19.0             \n",
       "1653680                                               19.0             \n",
       "1653681                                               19.0             \n",
       "1653682                                               19.0             \n",
       "\n",
       "[1653683 rows x 43 columns]"
      ]
     },
     "execution_count": 3,
     "metadata": {},
     "output_type": "execute_result"
    }
   ],
   "source": [
    "combined_df"
   ]
  },
  {
   "cell_type": "markdown",
   "id": "480a8f3e-ce62-4f9a-a759-6d6a9eac30be",
   "metadata": {},
   "source": [
    "## Exploración"
   ]
  },
  {
   "cell_type": "code",
   "execution_count": 4,
   "id": "e894a9ae-60fa-45fd-953e-e89e1491e5d0",
   "metadata": {},
   "outputs": [
    {
     "name": "stdout",
     "output_type": "stream",
     "text": [
      "Unique years in the combined dataset: [2016 2017 2018 2019 2020]\n"
     ]
    }
   ],
   "source": [
    "# Get the unique values in the 'Year' column\n",
    "unique_years = combined_df['Year'].unique()\n",
    "\n",
    "# Print the unique years\n",
    "print(\"Unique years in the combined dataset:\", unique_years)"
   ]
  },
  {
   "cell_type": "code",
   "execution_count": 5,
   "id": "6f669a2f-fe48-41b6-8c01-ba67f3ecb29f",
   "metadata": {},
   "outputs": [
    {
     "data": {
      "text/plain": [
       "Index(['Facility ID', 'Facility Name', 'Address', 'City', 'State', 'ZIP Code',\n",
       "       'County Name', 'Phone Number', 'HCAHPS Measure ID', 'HCAHPS Question',\n",
       "       'HCAHPS Answer Description', 'Patient Survey Star Rating',\n",
       "       'Patient Survey Star Rating Footnote', 'HCAHPS Answer Percent',\n",
       "       'HCAHPS Answer Percent Footnote', 'HCAHPS Linear Mean Value',\n",
       "       'Number of Completed Surveys', 'Number of Completed Surveys Footnote',\n",
       "       'Survey Response Rate Percent', 'Survey Response Rate Percent Footnote',\n",
       "       'Start Date', 'End Date', 'Year', 'Hospital Type', 'Hospital Ownership',\n",
       "       'Emergency Services',\n",
       "       'Meets criteria for promoting interoperability of EHRs',\n",
       "       'Hospital overall rating', 'Hospital overall rating footnote',\n",
       "       'Mortality national comparison',\n",
       "       'Mortality national comparison footnote',\n",
       "       'Safety of care national comparison',\n",
       "       'Safety of care national comparison footnote',\n",
       "       'Readmission national comparison',\n",
       "       'Readmission national comparison footnote',\n",
       "       'Patient experience national comparison',\n",
       "       'Patient experience national comparison footnote',\n",
       "       'Effectiveness of care national comparison',\n",
       "       'Effectiveness of care national comparison footnote',\n",
       "       'Timeliness of care national comparison',\n",
       "       'Timeliness of care national comparison footnote',\n",
       "       'Efficient use of medical imaging national comparison',\n",
       "       'Efficient use of medical imaging national comparison footnote'],\n",
       "      dtype='object')"
      ]
     },
     "execution_count": 5,
     "metadata": {},
     "output_type": "execute_result"
    }
   ],
   "source": [
    "combined_df.columns"
   ]
  },
  {
   "cell_type": "code",
   "execution_count": 6,
   "id": "784248d4-de94-476c-aab4-bc5a2870fb13",
   "metadata": {},
   "outputs": [
    {
     "data": {
      "text/plain": [
       "array(['Same as the National average', 'Below the National average',\n",
       "       'Not Available', 'Above the National average',\n",
       "       'Same as the national average', 'Below the national average',\n",
       "       'Above the national average'], dtype=object)"
      ]
     },
     "execution_count": 6,
     "metadata": {},
     "output_type": "execute_result"
    }
   ],
   "source": [
    "combined_df['Mortality national comparison'].unique()"
   ]
  },
  {
   "cell_type": "code",
   "execution_count": 7,
   "id": "d45aa88f-6ca2-412a-adde-074ca69bc3b2",
   "metadata": {},
   "outputs": [
    {
     "name": "stdout",
     "output_type": "stream",
     "text": [
      "Number of unique states: 56\n"
     ]
    }
   ],
   "source": [
    "# Count the number of unique states\n",
    "num_unique_states = combined_df['State'].nunique()\n",
    "\n",
    "# Display the result\n",
    "print(f\"Number of unique states: {num_unique_states}\")\n"
   ]
  },
  {
   "cell_type": "code",
   "execution_count": 8,
   "id": "a61b820c-6cb0-4489-b2d9-a1cd8a5c1d84",
   "metadata": {},
   "outputs": [
    {
     "name": "stdout",
     "output_type": "stream",
     "text": [
      "Number of unique states: ['AL' 'AK' 'AZ' 'AR' 'CA' 'CO' 'CT' 'DE' 'DC' 'FL' 'GA' 'HI' 'ID' 'IL'\n",
      " 'IN' 'IA' 'KS' 'KY' 'LA' 'ME' 'MD' 'MA' 'MI' 'MN' 'MS' 'MO' 'MT' 'NE'\n",
      " 'NV' 'NH' 'NJ' 'NM' 'NY' 'NC' 'ND' 'OH' 'OK' 'OR' 'PA' 'PR' 'RI' 'SC'\n",
      " 'SD' 'TN' 'TX' 'UT' 'VT' 'VI' 'VA' 'WA' 'WV' 'WI' 'WY' 'AS' 'GU' 'MP']\n"
     ]
    }
   ],
   "source": [
    "# Count the number of unique states\n",
    "unique_states = combined_df['State'].unique()\n",
    "\n",
    "# Display the result\n",
    "print(f\"Number of unique states: {unique_states}\")"
   ]
  },
  {
   "cell_type": "code",
   "execution_count": 9,
   "id": "bbffe3e5-5bbd-468a-a682-a1f39c9d3918",
   "metadata": {},
   "outputs": [],
   "source": [
    "# Con lo anterior es necesario indagar mas sobre cuales abreviaciones pertenecen a que estado para agrupar o corregir"
   ]
  },
  {
   "cell_type": "markdown",
   "id": "a5f39497-908e-4613-a1db-0fc32ccb1521",
   "metadata": {},
   "source": [
    "### Exploracion sobre las instituciones"
   ]
  },
  {
   "cell_type": "code",
   "execution_count": 10,
   "id": "c4bc21f0-4c1e-4ced-a11b-4dc22ded7d8d",
   "metadata": {},
   "outputs": [
    {
     "name": "stdout",
     "output_type": "stream",
     "text": [
      "Total number of unique facilities in the country: 5769\n"
     ]
    }
   ],
   "source": [
    "# Count the number of unique 'Facility Name' across the entire dataset\n",
    "total_unique_facilities = combined_df['Facility Name'].nunique()\n",
    "\n",
    "# Display the result\n",
    "print(f\"Total number of unique facilities in the country: {total_unique_facilities}\")\n"
   ]
  },
  {
   "cell_type": "code",
   "execution_count": 13,
   "id": "22a5db1b-6dc2-4c31-ac3e-f44a2dda86a0",
   "metadata": {},
   "outputs": [
    {
     "name": "stdout",
     "output_type": "stream",
     "text": [
      "Total number of patients in the country: 1653683\n"
     ]
    }
   ],
   "source": [
    "# Count the number of unique 'Facility Name' across the entire dataset\n",
    "total_unique_facilities = combined_df['Number of Completed Surveys'].value_counts().sum()\n",
    "\n",
    "# Display the result\n",
    "print(f\"Total number of patients in the country: {total_unique_facilities}\")"
   ]
  },
  {
   "cell_type": "code",
   "execution_count": 39,
   "id": "e593cddd-2122-48b3-a8b6-59eb963db280",
   "metadata": {},
   "outputs": [
    {
     "name": "stdout",
     "output_type": "stream",
     "text": [
      "The state with the most facilities is: TX with 533 facilities.\n"
     ]
    }
   ],
   "source": [
    "# Group by 'State' and count the number of unique 'Facility Name'\n",
    "state_facility_count = combined_df.groupby('State')['Facility Name'].nunique().reset_index(name='Facility Count')\n",
    "\n",
    "# Sort by 'Facility Count' in descending order to find the state with the most facilities\n",
    "state_facility_count_sorted = state_facility_count.sort_values(by='Facility Count', ascending=False)\n",
    "\n",
    "# Get the state with the most facilities\n",
    "top_state = state_facility_count_sorted.iloc[0]\n",
    "\n",
    "# Display the result\n",
    "print(f\"The state with the most facilities is: {top_state['State']} with {top_state['Facility Count']} facilities.\")"
   ]
  },
  {
   "cell_type": "code",
   "execution_count": 40,
   "id": "f74fdb15-5c1e-4528-bf3a-7e0ebdf5cb78",
   "metadata": {},
   "outputs": [
    {
     "name": "stdout",
     "output_type": "stream",
     "text": [
      "Top 5 states with the most facilities:\n",
      "   State  Facility Count\n",
      "47    TX             533\n",
      "5     CA             384\n",
      "10    FL             242\n",
      "37    NY             224\n",
      "41    PA             222\n"
     ]
    }
   ],
   "source": [
    "# Group by 'State' and count the number of unique 'Facility Name'\n",
    "state_facility_count = combined_df.groupby('State')['Facility Name'].nunique().reset_index(name='Facility Count')\n",
    "\n",
    "# Sort by 'Facility Count' in descending order to find the states with the most facilities\n",
    "state_facility_count_sorted = state_facility_count.sort_values(by='Facility Count', ascending=False)\n",
    "\n",
    "# Get the top 5 states with the most facilities\n",
    "top_5_states = state_facility_count_sorted.head(5)\n",
    "\n",
    "# Display the result\n",
    "print(\"Top 5 states with the most facilities:\")\n",
    "print(top_5_states[['State', 'Facility Count']])\n"
   ]
  },
  {
   "cell_type": "code",
   "execution_count": 10,
   "id": "d761b890-cd3e-4651-bd0d-b80c2cbcdb1f",
   "metadata": {},
   "outputs": [
    {
     "name": "stdout",
     "output_type": "stream",
     "text": [
      "Number of facilities by state:\n",
      "   State  Facility Count\n",
      "47    TX             533\n",
      "5     CA             384\n",
      "10    FL             242\n",
      "37    NY             224\n",
      "41    PA             222\n",
      "16    IL             210\n",
      "38    OH             210\n",
      "53    WI             194\n",
      "11    GA             168\n",
      "24    MI             167\n",
      "18    KS             161\n",
      "39    OK             152\n",
      "25    MN             150\n",
      "17    IN             146\n",
      "26    MO             144\n",
      "14    IA             139\n",
      "20    LA             139\n",
      "46    TN             138\n",
      "30    NC             133\n",
      "28    MS             119\n",
      "52    WA             115\n",
      "19    KY             113\n",
      "6     CO             109\n",
      "1     AL             108\n",
      "32    NE             106\n",
      "49    VA             104\n",
      "34    NJ              95\n",
      "4     AZ              94\n",
      "2     AR              90\n",
      "44    SC              84\n",
      "21    MA              82\n",
      "22    MD              73\n",
      "29    MT              71\n",
      "40    OR              70\n",
      "45    SD              68\n",
      "31    ND              61\n",
      "42    PR              60\n",
      "48    UT              53\n",
      "54    WV              51\n",
      "15    ID              50\n",
      "35    NM              47\n",
      "23    ME              44\n",
      "36    NV              43\n",
      "7     CT              39\n",
      "55    WY              32\n",
      "0     AK              27\n",
      "33    NH              26\n",
      "13    HI              25\n",
      "51    VT              15\n",
      "43    RI              14\n",
      "9     DE              10\n",
      "8     DC               8\n",
      "12    GU               3\n",
      "50    VI               2\n",
      "27    MP               1\n",
      "3     AS               1\n"
     ]
    }
   ],
   "source": [
    "# Group by 'State' and count the occurrences of each 'Facility Name'\n",
    "state_facility_count = combined_df.groupby('State')['Facility Name'].nunique().reset_index(name='Facility Count')\n",
    "\n",
    "state_facility_count = state_facility_count.sort_values(by='Facility Count', ascending=False)\n",
    "\n",
    "# Display the result\n",
    "print(\"Number of facilities by state:\")\n",
    "print(state_facility_count)\n"
   ]
  },
  {
   "cell_type": "code",
   "execution_count": 41,
   "id": "e0e30db3-f764-4992-8ef6-b751fdc1046d",
   "metadata": {},
   "outputs": [
    {
     "name": "stdout",
     "output_type": "stream",
     "text": [
      "Top 5 cities with the most facilities:\n",
      "     State         City  Facility Count\n",
      "3271    TX      HOUSTON              38\n",
      "987     IL      CHICAGO              30\n",
      "3214    TX       DALLAS              28\n",
      "315     CA  LOS ANGELES              23\n",
      "1530    MD    BALTIMORE              22\n"
     ]
    }
   ],
   "source": [
    "# Group by 'State' and 'City' and count the number of unique 'Facility Name'\n",
    "state_city_facility_count = combined_df.groupby(['State', 'City'])['Facility Name'].nunique().reset_index(name='Facility Count')\n",
    "\n",
    "# Sort by 'Facility Count' in descending order to find the states and cities with the most facilities\n",
    "state_city_facility_count_sorted = state_city_facility_count.sort_values(by='Facility Count', ascending=False)\n",
    "\n",
    "# Get the top 5 states and cities with the most facilities\n",
    "top_5_states_cities = state_city_facility_count_sorted.head(5)\n",
    "\n",
    "# Display the result\n",
    "print(\"Top 5 cities with the most facilities:\")\n",
    "print(top_5_states_cities[['State', 'City', 'Facility Count']])\n"
   ]
  },
  {
   "cell_type": "code",
   "execution_count": 11,
   "id": "57705fa8-c0c9-4e62-8179-b01363bd313b",
   "metadata": {},
   "outputs": [
    {
     "name": "stdout",
     "output_type": "stream",
     "text": [
      "Number of facilities by city:\n",
      "             City  Facility Count\n",
      "1239      HOUSTON              40\n",
      "469       CHICAGO              30\n",
      "636        DALLAS              30\n",
      "1540  LOS ANGELES              23\n",
      "140     BALTIMORE              22\n",
      "...           ...             ...\n",
      "1190   HICKSVILLE               1\n",
      "1188      HIBBING               1\n",
      "1187     HIAWATHA               1\n",
      "1186    HIAWASSEE               1\n",
      "3006         ZUNI               1\n",
      "\n",
      "[3007 rows x 2 columns]\n"
     ]
    }
   ],
   "source": [
    "# Group by 'State' and count the occurrences of each 'Facility Name'\n",
    "state_facility_count = combined_df.groupby('City')['Facility Name'].nunique().reset_index(name='Facility Count')\n",
    "\n",
    "state_facility_count = state_facility_count.sort_values(by='Facility Count', ascending=False)\n",
    "\n",
    "# Display the result\n",
    "print(\"Number of facilities by city:\")\n",
    "print(state_facility_count)\n"
   ]
  },
  {
   "cell_type": "code",
   "execution_count": 22,
   "id": "c63cb522-5ce7-4ccc-b73b-5d427b5856ba",
   "metadata": {},
   "outputs": [
    {
     "name": "stdout",
     "output_type": "stream",
     "text": [
      "Top 5 states with the most facilities and their types:\n",
      "    State         Hospital Type  Facility Count\n",
      "133    TX  Acute Care Hospitals             428\n",
      "14     CA  Acute Care Hospitals             329\n",
      "28     FL  Acute Care Hospitals             220\n",
      "103    NY  Acute Care Hospitals             202\n",
      "116    PA  Acute Care Hospitals             194\n"
     ]
    }
   ],
   "source": [
    "# Group by 'State' and 'City' and count the number of unique 'Facility Name'\n",
    "state_city_facility_count = combined_df.groupby(['State', 'Hospital Type'])['Facility Name'].nunique().reset_index(name='Facility Count')\n",
    "\n",
    "# Sort by 'Facility Count' in descending order to find the states and cities with the most facilities\n",
    "state_city_facility_count_sorted = state_city_facility_count.sort_values(by='Facility Count', ascending=False)\n",
    "\n",
    "# Get the top 5 states and cities with the most facilities\n",
    "top_5_states_cities = state_city_facility_count_sorted.head(5)\n",
    "\n",
    "# Display the result\n",
    "print(\"Top 5 states with the most facilities and their types:\")\n",
    "print(top_5_states_cities[['State','Hospital Type', 'Facility Count']])"
   ]
  },
  {
   "cell_type": "code",
   "execution_count": 20,
   "id": "08bdfeaa-4cc5-4425-b060-b2961ccc2e1b",
   "metadata": {},
   "outputs": [
    {
     "name": "stdout",
     "output_type": "stream",
     "text": [
      "Top 5 cities with the most facilities:\n",
      "               City         Hospital Type  Facility Count\n",
      "1378        HOUSTON  Acute Care Hospitals              37\n",
      "526         CHICAGO  Acute Care Hospitals              27\n",
      "711          DALLAS  Acute Care Hospitals              26\n",
      "1717    LOS ANGELES  Acute Care Hospitals              21\n",
      "2181  OKLAHOMA CITY  Acute Care Hospitals              21\n"
     ]
    }
   ],
   "source": [
    "# Group by 'State' and 'City' and count the number of unique 'Facility Name'\n",
    "state_city_facility_count = combined_df.groupby(['City', 'Hospital Type'])['Facility Name'].nunique().reset_index(name='Facility Count')\n",
    "\n",
    "# Sort by 'Facility Count' in descending order to find the states and cities with the most facilities\n",
    "state_city_facility_count_sorted = state_city_facility_count.sort_values(by='Facility Count', ascending=False)\n",
    "\n",
    "# Get the top 5 states and cities with the most facilities\n",
    "top_5_states_cities = state_city_facility_count_sorted.head(5)\n",
    "\n",
    "# Display the result\n",
    "print(\"Top 5 cities with the most facilities and their types:\")\n",
    "print(top_5_states_cities[['City','Hospital Type', 'Facility Count']])"
   ]
  },
  {
   "cell_type": "code",
   "execution_count": 25,
   "id": "d335152e-10b5-4340-9fd5-c29ee062a556",
   "metadata": {},
   "outputs": [
    {
     "name": "stdout",
     "output_type": "stream",
     "text": [
      "Top 5 states with the most facilities and their types:\n",
      "                        Hospital Type  Facility Count\n",
      "1                Acute Care Hospitals            4144\n",
      "3           Critical Access Hospitals            1560\n",
      "2                           Childrens             109\n",
      "0  Acute Care - Department of Defense              35\n"
     ]
    }
   ],
   "source": [
    "# Group by 'State' and 'City' and count the number of unique 'Facility Name'\n",
    "state_city_facility_count = combined_df.groupby(['Hospital Type'])['Facility Name'].nunique().reset_index(name='Facility Count')\n",
    "\n",
    "# Sort by 'Facility Count' in descending order to find the states and cities with the most facilities\n",
    "state_city_facility_count_sorted = state_city_facility_count.sort_values(by='Facility Count', ascending=False)\n",
    "\n",
    "# Get the top 5 states and cities with the most facilities\n",
    "top_5_states_cities = state_city_facility_count_sorted.head(5)\n",
    "\n",
    "# Display the result\n",
    "print(\"Top 5 states with the most facilities and their types:\")\n",
    "print(top_5_states_cities[['Hospital Type', 'Facility Count']])"
   ]
  },
  {
   "cell_type": "code",
   "execution_count": 23,
   "id": "0436547b-195d-481a-890a-be0861cb17f2",
   "metadata": {},
   "outputs": [
    {
     "name": "stdout",
     "output_type": "stream",
     "text": [
      "Top 5 cities with the most facilities and their ownership:\n",
      "    State              Hospital Ownership  Facility Count\n",
      "317    TX                     Proprietary             206\n",
      "248    NY  Voluntary non-profit - Private             168\n",
      "320    TX  Voluntary non-profit - Private             162\n",
      "42     CA  Voluntary non-profit - Private             146\n",
      "281    PA  Voluntary non-profit - Private             138\n"
     ]
    }
   ],
   "source": [
    "# Group by 'State' and 'City' and count the number of unique 'Facility Name'\n",
    "state_city_facility_count = combined_df.groupby(['State', 'Hospital Ownership'])['Facility Name'].nunique().reset_index(name='Facility Count')\n",
    "\n",
    "# Sort by 'Facility Count' in descending order to find the states and cities with the most facilities\n",
    "state_city_facility_count_sorted = state_city_facility_count.sort_values(by='Facility Count', ascending=False)\n",
    "\n",
    "# Get the top 5 states and cities with the most facilities\n",
    "top_5_states_cities = state_city_facility_count_sorted.head(5)\n",
    "\n",
    "# Display the result\n",
    "print(\"Top 5 cities with the most facilities and their ownership:\")\n",
    "print(top_5_states_cities[['State','Hospital Ownership', 'Facility Count']])"
   ]
  },
  {
   "cell_type": "code",
   "execution_count": 21,
   "id": "0c2cba3d-e4ea-4066-ab97-9dde540ead9a",
   "metadata": {},
   "outputs": [
    {
     "name": "stdout",
     "output_type": "stream",
     "text": [
      "Top 5 cities with the most facilities and their ownership:\n",
      "              City              Hospital Ownership  Facility Count\n",
      "1750       HOUSTON                     Proprietary              20\n",
      "677        CHICAGO  Voluntary non-profit - Private              19\n",
      "2692      NEW YORK  Voluntary non-profit - Private              16\n",
      "213      BALTIMORE  Voluntary non-profit - Private              16\n",
      "1836  JACKSONVILLE  Voluntary non-profit - Private              15\n"
     ]
    }
   ],
   "source": [
    "# Group by 'State' and 'City' and count the number of unique 'Facility Name'\n",
    "state_city_facility_count = combined_df.groupby(['City', 'Hospital Ownership'])['Facility Name'].nunique().reset_index(name='Facility Count')\n",
    "\n",
    "# Sort by 'Facility Count' in descending order to find the states and cities with the most facilities\n",
    "state_city_facility_count_sorted = state_city_facility_count.sort_values(by='Facility Count', ascending=False)\n",
    "\n",
    "# Get the top 5 states and cities with the most facilities\n",
    "top_5_states_cities = state_city_facility_count_sorted.head(5)\n",
    "\n",
    "# Display the result\n",
    "print(\"Top 5 cities with the most facilities and their ownership:\")\n",
    "print(top_5_states_cities[['City','Hospital Ownership', 'Facility Count']])"
   ]
  },
  {
   "cell_type": "code",
   "execution_count": 24,
   "id": "8ab7d825-7e5a-436d-8626-a7712de37f82",
   "metadata": {},
   "outputs": [
    {
     "name": "stdout",
     "output_type": "stream",
     "text": [
      "Top 5 cities with the most facilities and their ownership:\n",
      "                             Hospital Ownership  Facility Count\n",
      "10               Voluntary non-profit - Private            2728\n",
      "6                                   Proprietary            1055\n",
      "2   Government - Hospital District or Authority             666\n",
      "9                  Voluntary non-profit - Other             606\n",
      "3                            Government - Local             494\n"
     ]
    }
   ],
   "source": [
    "# Group by 'State' and 'City' and count the number of unique 'Facility Name'\n",
    "state_city_facility_count = combined_df.groupby(['Hospital Ownership'])['Facility Name'].nunique().reset_index(name='Facility Count')\n",
    "\n",
    "# Sort by 'Facility Count' in descending order to find the states and cities with the most facilities\n",
    "state_city_facility_count_sorted = state_city_facility_count.sort_values(by='Facility Count', ascending=False)\n",
    "\n",
    "# Get the top 5 states and cities with the most facilities\n",
    "top_5_states_cities = state_city_facility_count_sorted.head(5)\n",
    "\n",
    "# Display the result\n",
    "print(\"Top 5 cities with the most facilities and their ownership:\")\n",
    "print(top_5_states_cities[['Hospital Ownership', 'Facility Count']])"
   ]
  },
  {
   "cell_type": "code",
   "execution_count": 20,
   "id": "dad4b2af-64de-44e3-92cd-c5672e787b46",
   "metadata": {},
   "outputs": [
    {
     "name": "stdout",
     "output_type": "stream",
     "text": [
      "Percentage of each Hospital Ownership within each Hospital Type:\n",
      "                         Hospital Type  \\\n",
      "0   Acute Care - Department of Defense   \n",
      "1                 Acute Care Hospitals   \n",
      "2                 Acute Care Hospitals   \n",
      "3                 Acute Care Hospitals   \n",
      "4                 Acute Care Hospitals   \n",
      "5                 Acute Care Hospitals   \n",
      "6                 Acute Care Hospitals   \n",
      "7                 Acute Care Hospitals   \n",
      "8                 Acute Care Hospitals   \n",
      "9                 Acute Care Hospitals   \n",
      "10                Acute Care Hospitals   \n",
      "11                           Childrens   \n",
      "12                           Childrens   \n",
      "13                           Childrens   \n",
      "14                           Childrens   \n",
      "15                           Childrens   \n",
      "16                           Childrens   \n",
      "17           Critical Access Hospitals   \n",
      "18           Critical Access Hospitals   \n",
      "19           Critical Access Hospitals   \n",
      "20           Critical Access Hospitals   \n",
      "21           Critical Access Hospitals   \n",
      "22           Critical Access Hospitals   \n",
      "23           Critical Access Hospitals   \n",
      "24           Critical Access Hospitals   \n",
      "25           Critical Access Hospitals   \n",
      "26           Critical Access Hospitals   \n",
      "\n",
      "                             Hospital Ownership   Count  \\\n",
      "0                         Department of Defense    3255   \n",
      "1                          Government - Federal   11751   \n",
      "2   Government - Hospital District or Authority   90716   \n",
      "3                            Government - Local   59213   \n",
      "4                            Government - State   17520   \n",
      "5                                     Physician   24015   \n",
      "6                                   Proprietary  244342   \n",
      "7                                        Tribal    1675   \n",
      "8                 Voluntary non-profit - Church   90859   \n",
      "9                  Voluntary non-profit - Other  113734   \n",
      "10               Voluntary non-profit - Private  496017   \n",
      "11  Government - Hospital District or Authority     346   \n",
      "12                           Government - State    1038   \n",
      "13                                  Proprietary    2675   \n",
      "14                Voluntary non-profit - Church     396   \n",
      "15                 Voluntary non-profit - Other    5219   \n",
      "16               Voluntary non-profit - Private   23829   \n",
      "17                         Government - Federal    3004   \n",
      "18  Government - Hospital District or Authority   97666   \n",
      "19                           Government - Local   80781   \n",
      "20                           Government - State    4333   \n",
      "21                                    Physician     468   \n",
      "22                                  Proprietary   23845   \n",
      "23                                       Tribal    1384   \n",
      "24                Voluntary non-profit - Church   22082   \n",
      "25                 Voluntary non-profit - Other   29075   \n",
      "26               Voluntary non-profit - Private  204445   \n",
      "\n",
      "    Ownership Percentage within Hospital Type  \n",
      "0                                  100.000000  \n",
      "1                                    1.021966  \n",
      "2                                    7.889432  \n",
      "3                                    5.149664  \n",
      "4                                    1.523688  \n",
      "5                                    2.088548  \n",
      "6                                   21.250050  \n",
      "7                                    0.145672  \n",
      "8                                    7.901868  \n",
      "9                                    9.891272  \n",
      "10                                  43.137840  \n",
      "11                                   1.032743  \n",
      "12                                   3.098230  \n",
      "13                                   7.984360  \n",
      "14                                   1.181984  \n",
      "15                                  15.577709  \n",
      "16                                  71.124974  \n",
      "17                                   0.643141  \n",
      "18                                  20.909774  \n",
      "19                                  17.294785  \n",
      "20                                   0.927672  \n",
      "21                                   0.100196  \n",
      "22                                   5.105088  \n",
      "23                                   0.296307  \n",
      "24                                   4.727639  \n",
      "25                                   6.224804  \n",
      "26                                  43.770593  \n"
     ]
    }
   ],
   "source": [
    "# Group by 'Hospital Type' and 'Hospital Ownership' and count the occurrences\n",
    "hospital_type_ownership_count = combined_df.groupby(['Hospital Type', 'Hospital Ownership']).size().reset_index(name='Count')\n",
    "\n",
    "# Group by 'Hospital Type' and get the total count per hospital type\n",
    "hospital_type_total = hospital_type_ownership_count.groupby('Hospital Type')['Count'].transform('sum')\n",
    "\n",
    "# Calculate the percentage of each 'Hospital Ownership' within each 'Hospital Type'\n",
    "hospital_type_ownership_count['Ownership Percentage within Hospital Type'] = (hospital_type_ownership_count['Count'] / hospital_type_total) * 100\n",
    "\n",
    "# Display the result\n",
    "print(\"Percentage of each Hospital Ownership within each Hospital Type:\")\n",
    "print(hospital_type_ownership_count)"
   ]
  },
  {
   "cell_type": "markdown",
   "id": "df52cdb5-51cc-4525-8719-240a8fb06b82",
   "metadata": {},
   "source": [
    "### Numero de pacientes"
   ]
  },
  {
   "cell_type": "code",
   "execution_count": 7,
   "id": "d1116382-5da7-4800-af09-91c8d0dcf990",
   "metadata": {},
   "outputs": [
    {
     "name": "stdout",
     "output_type": "stream",
     "text": [
      "Count of each Patients:\n",
      "                                  Facility Name  Patients Count\n",
      "0                             MEMORIAL HOSPITAL            5004\n",
      "1                   COMMUNITY MEMORIAL HOSPITAL            2434\n",
      "2                       GOOD SAMARITAN HOSPITAL            2236\n",
      "3                            ST JOSEPH HOSPITAL            2224\n",
      "4               SHRINERS HOSPITALS FOR CHILDREN            1983\n",
      "...                                         ...             ...\n",
      "5764                        UPMC CHAUTAUQUA WCA              50\n",
      "5765                                TLC NETWORK              50\n",
      "5766                 FLORIDA HOSPITAL DADE CITY              50\n",
      "5767                     FLORIDA HOSPITAL OCALA              50\n",
      "5768  SCL HEALTH COMMUNITY HOSPITAL- NORTHGLENN              50\n",
      "\n",
      "[5769 rows x 2 columns]\n"
     ]
    }
   ],
   "source": [
    "#Pacientes por hospital\n",
    "# Group by 'Hospital Type' and count the occurrences of each type\n",
    "hospital_type_count = combined_df['Facility Name'].value_counts().reset_index(name='Patients Count')\n",
    "\n",
    "# Rename the columns for clarity\n",
    "hospital_type_count.columns = ['Facility Name', 'Patients Count']\n",
    "\n",
    "# Display the result\n",
    "print(\"Count of each Patients:\")\n",
    "print(hospital_type_count)"
   ]
  },
  {
   "cell_type": "code",
   "execution_count": 9,
   "id": "341a8415-95c6-44ac-a56a-3dfc4f036bc9",
   "metadata": {},
   "outputs": [
    {
     "name": "stdout",
     "output_type": "stream",
     "text": [
      "Number of patients by state and their percentage of the total:\n",
      "   State  Patients Count  Percentage\n",
      "47    TX          139785    8.452950\n",
      "5     CA          118096    7.141393\n",
      "10    FL           63753    3.855213\n",
      "16    IL           62094    3.754891\n",
      "41    PA           58367    3.529516\n",
      "37    NY           58334    3.527520\n",
      "38    OH           57818    3.496317\n",
      "18    KS           46980    2.840931\n",
      "11    GA           46023    2.783061\n",
      "24    MI           45326    2.740912\n",
      "25    MN           44811    2.709770\n",
      "53    WI           43131    2.608178\n",
      "39    OK           41759    2.525212\n",
      "17    IN           41241    2.493888\n",
      "20    LA           40705    2.461475\n",
      "14    IA           40136    2.427067\n",
      "26    MO           38676    2.338780\n",
      "30    NC           36867    2.229387\n",
      "46    TN           36438    2.203445\n",
      "28    MS           33018    1.996634\n",
      "19    KY           31909    1.929572\n",
      "52    WA           31715    1.917840\n",
      "1     AL           30911    1.869222\n",
      "32    NE           30904    1.868798\n",
      "49    VA           29668    1.794056\n",
      "6     CO           28073    1.697605\n",
      "4     AZ           27170    1.642999\n",
      "2     AR           26081    1.577146\n",
      "34    NJ           22836    1.380918\n",
      "21    MA           21667    1.310227\n",
      "29    MT           21397    1.293900\n",
      "40    OR           20760    1.255380\n",
      "44    SC           20667    1.249756\n",
      "45    SD           20195    1.221213\n",
      "42    PR           18047    1.091322\n",
      "22    MD           17047    1.030851\n",
      "54    WV           16954    1.025227\n",
      "48    UT           16047    0.970379\n",
      "31    ND           15224    0.920612\n",
      "15    ID           14515    0.877738\n",
      "35    NM           14372    0.869090\n",
      "36    NV           12279    0.742524\n",
      "23    ME           11418    0.690459\n",
      "7     CT           10633    0.642989\n",
      "55    WY            9447    0.571270\n",
      "33    NH            8996    0.543998\n",
      "13    HI            8051    0.486853\n",
      "0     AK            7705    0.465930\n",
      "51    VT            4844    0.292922\n",
      "43    RI            3620    0.218905\n",
      "8     DC            2675    0.161760\n",
      "9     DE            2422    0.146461\n",
      "50    VI             692    0.041846\n",
      "12    GU             692    0.041846\n",
      "3     AS             346    0.020923\n",
      "27    MP             346    0.020923\n"
     ]
    }
   ],
   "source": [
    "# First, calculate the total number of patients (use count() for total occurrences)\n",
    "total_facilities = combined_df['Facility Name'].count()\n",
    "\n",
    "# Group by 'State' and count the number of facilities for each state\n",
    "state_facility_count = combined_df.groupby('State')['Facility Name'].count().reset_index(name='Patients Count')\n",
    "\n",
    "# Calculate the percentage of facilities for each state\n",
    "state_facility_count['Percentage'] = (state_facility_count['Patients Count'] / total_facilities) * 100\n",
    "\n",
    "state_facility_count = state_facility_count.sort_values(by='Patients Count', ascending=False)\n",
    "\n",
    "# Display the result\n",
    "print(\"Number of patients by state and their percentage of the total:\")\n",
    "print(state_facility_count)\n"
   ]
  },
  {
   "cell_type": "code",
   "execution_count": 11,
   "id": "c09faf62-a9f8-477d-ba77-4361de6100c8",
   "metadata": {},
   "outputs": [
    {
     "name": "stdout",
     "output_type": "stream",
     "text": [
      "Number of patients by Hospital Type and their percentage of the total:\n",
      "                        Hospital Type  Patients Count  Percentage\n",
      "1                Acute Care Hospitals         1149842   69.532190\n",
      "3           Critical Access Hospitals          467083   28.245014\n",
      "2                           Childrens           33503    2.025963\n",
      "0  Acute Care - Department of Defense            3255    0.196833\n"
     ]
    }
   ],
   "source": [
    "# First, calculate the total number of patients (use count() for total occurrences)\n",
    "total_facilities = combined_df['Facility Name'].count()\n",
    "\n",
    "# Group by 'State' and count the number of facilities for each state\n",
    "state_facility_count = combined_df.groupby('Hospital Type')['Facility Name'].count().reset_index(name='Patients Count')\n",
    "\n",
    "# Calculate the percentage of facilities for each state\n",
    "state_facility_count['Percentage'] = (state_facility_count['Patients Count'] / total_facilities) * 100\n",
    "\n",
    "state_facility_count = state_facility_count.sort_values(by='Patients Count', ascending=False)\n",
    "\n",
    "# Display the result\n",
    "print(\"Number of patients by Hospital Type and their percentage of the total:\")\n",
    "print(state_facility_count)"
   ]
  },
  {
   "cell_type": "code",
   "execution_count": 12,
   "id": "b77d51dc-4f60-48ce-b8da-5d024a05f187",
   "metadata": {},
   "outputs": [
    {
     "name": "stdout",
     "output_type": "stream",
     "text": [
      "Number of patients by Hospital Ownership and their percentage of the total:\n",
      "                             Hospital Ownership  Patients Count  Percentage\n",
      "10               Voluntary non-profit - Private          724291   43.798660\n",
      "6                                   Proprietary          270862   16.379318\n",
      "2   Government - Hospital District or Authority          188728   11.412586\n",
      "9                  Voluntary non-profit - Other          148028    8.951413\n",
      "3                            Government - Local          139994    8.465589\n",
      "8                 Voluntary non-profit - Church          113337    6.853611\n",
      "5                                     Physician           24483    1.480513\n",
      "4                            Government - State           22891    1.384244\n",
      "1                          Government - Federal           14755    0.892251\n",
      "0                         Department of Defense            3255    0.196833\n",
      "7                                        Tribal            3059    0.184981\n"
     ]
    }
   ],
   "source": [
    "# First, calculate the total number of patients (use count() for total occurrences)\n",
    "total_facilities = combined_df['Facility Name'].count()\n",
    "\n",
    "# Group by 'State' and count the number of facilities for each state\n",
    "state_facility_count = combined_df.groupby('Hospital Ownership')['Facility Name'].count().reset_index(name='Patients Count')\n",
    "\n",
    "# Calculate the percentage of facilities for each state\n",
    "state_facility_count['Percentage'] = (state_facility_count['Patients Count'] / total_facilities) * 100\n",
    "\n",
    "state_facility_count = state_facility_count.sort_values(by='Patients Count', ascending=False)\n",
    "\n",
    "# Display the result\n",
    "print(\"Number of patients by Hospital Ownership and their percentage of the total:\")\n",
    "print(state_facility_count)"
   ]
  },
  {
   "cell_type": "markdown",
   "id": "f8bfb3b6-a45e-4a8b-a974-67e998535979",
   "metadata": {},
   "source": [
    "### Tipos de hospital y ownership:"
   ]
  },
  {
   "cell_type": "code",
   "execution_count": 17,
   "id": "cc8be6a0-11a6-438c-a3ef-b7d175bb405d",
   "metadata": {},
   "outputs": [
    {
     "name": "stdout",
     "output_type": "stream",
     "text": [
      "Number of states that have all the hospital types: 15\n"
     ]
    }
   ],
   "source": [
    "# Get the unique 'Hospital Type' values\n",
    "unique_hospital_types = combined_df['Hospital Type'].nunique()\n",
    "\n",
    "# Group by 'State' and count the unique 'Hospital Type' values for each state\n",
    "state_hospital_type_count = combined_df.groupby('State')['Hospital Type'].nunique().reset_index(name='Hospital Type Count')\n",
    "\n",
    "# Filter states where the 'Hospital Type Count' is equal to the total number of unique hospital types\n",
    "states_with_all_hospital_types = state_hospital_type_count[state_hospital_type_count['Hospital Type Count'] == unique_hospital_types]\n",
    "\n",
    "# Get the count of such states\n",
    "num_states_with_all_types = len(states_with_all_hospital_types)\n",
    "\n",
    "# Display the result\n",
    "print(f\"Number of states that have all the hospital types: {num_states_with_all_types}\")\n"
   ]
  },
  {
   "cell_type": "code",
   "execution_count": 18,
   "id": "eaae054c-6416-4dcc-91fa-7c3b4be38c53",
   "metadata": {},
   "outputs": [
    {
     "name": "stdout",
     "output_type": "stream",
     "text": [
      "Top 5 states with the most facilities:\n",
      "   State  Hospital Type Count\n",
      "13    HI                    4\n",
      "10    FL                    4\n",
      "37    NY                    4\n",
      "38    OH                    4\n",
      "20    LA                    4\n",
      "19    KY                    4\n",
      "18    KS                    4\n",
      "44    SC                    4\n",
      "11    GA                    4\n",
      "26    MO                    4\n"
     ]
    }
   ],
   "source": [
    "# Group by 'State' and count the number of unique 'Facility Name'\n",
    "state_facility_count = combined_df.groupby('State')['Hospital Type'].nunique().reset_index(name='Hospital Type Count')\n",
    "\n",
    "# Sort by 'Facility Count' in descending order to find the states with the most facilities\n",
    "state_facility_count_sorted = state_facility_count.sort_values(by='Hospital Type Count', ascending=False)\n",
    "\n",
    "# Get the top 5 states with the most facilities\n",
    "top_5_states = state_facility_count_sorted.head(10)\n",
    "\n",
    "# Display the result\n",
    "print(\"Top 5 states with the most facilities:\")\n",
    "print(top_5_states[['State', 'Hospital Type Count']])"
   ]
  },
  {
   "cell_type": "code",
   "execution_count": 19,
   "id": "7c0a4f84-85c6-45d2-830f-0087d06a4c46",
   "metadata": {},
   "outputs": [
    {
     "name": "stdout",
     "output_type": "stream",
     "text": [
      "Number of states that have all the hospital types: 0\n"
     ]
    }
   ],
   "source": [
    "# Get the unique 'Hospital Type' values\n",
    "unique_hospital_types = combined_df['Hospital Type'].nunique()\n",
    "\n",
    "# Group by 'State' and count the unique 'Hospital Type' values for each state\n",
    "state_hospital_type_count = combined_df.groupby('City')['Hospital Type'].nunique().reset_index(name='Hospital Type Count')\n",
    "\n",
    "# Filter states where the 'Hospital Type Count' is equal to the total number of unique hospital types\n",
    "states_with_all_hospital_types = state_hospital_type_count[state_hospital_type_count['Hospital Type Count'] == unique_hospital_types]\n",
    "\n",
    "# Get the count of such states\n",
    "num_states_with_all_types = len(states_with_all_hospital_types)\n",
    "\n",
    "# Display the result\n",
    "print(f\"Number of cities that have all the hospital types: {num_states_with_all_types}\")"
   ]
  },
  {
   "cell_type": "code",
   "execution_count": 20,
   "id": "c934a7fe-a84f-45c6-b466-02430ba815e5",
   "metadata": {},
   "outputs": [
    {
     "name": "stdout",
     "output_type": "stream",
     "text": [
      "Top 5 cities with the most facilities:\n",
      "     State         City  Facility Count\n",
      "2400    NV       FALLON               2\n",
      "1522    MA  SPRINGFIELD               2\n",
      "3222    TX        DUMAS               2\n",
      "2922    PA    WELLSBORO               2\n",
      "687     GA      ATLANTA               2\n"
     ]
    }
   ],
   "source": [
    "# Group by 'State' and 'City' and count the number of unique 'Facility Name'\n",
    "state_city_facility_count = combined_df.groupby(['State', 'City'])['Hospital Type'].nunique().reset_index(name='Facility Count')\n",
    "\n",
    "# Sort by 'Facility Count' in descending order to find the states and cities with the most facilities\n",
    "state_city_facility_count_sorted = state_city_facility_count.sort_values(by='Facility Count', ascending=False)\n",
    "\n",
    "# Get the top 5 states and cities with the most facilities\n",
    "top_5_states_cities = state_city_facility_count_sorted.head(5)\n",
    "\n",
    "# Display the result\n",
    "print(\"Top 5 cities with the most type facilities:\")\n",
    "print(top_5_states_cities[['State', 'City', 'Facility Count']])"
   ]
  },
  {
   "cell_type": "code",
   "execution_count": 16,
   "id": "f717e269-d855-45cc-bb30-2a10288643d9",
   "metadata": {},
   "outputs": [
    {
     "name": "stdout",
     "output_type": "stream",
     "text": [
      "Number of states that have all the Hospital Ownership: 0\n"
     ]
    }
   ],
   "source": [
    "# Get the unique 'Hospital Type' values\n",
    "unique_hospital_types = combined_df['Hospital Ownership'].nunique()\n",
    "\n",
    "# Group by 'State' and count the unique 'Hospital Type' values for each state\n",
    "state_hospital_type_count = combined_df.groupby('State')['Hospital Ownership'].nunique().reset_index(name='Hospital Ownership Count')\n",
    "\n",
    "# Filter states where the 'Hospital Type Count' is equal to the total number of unique hospital types\n",
    "states_with_all_hospital_types = state_hospital_type_count[state_hospital_type_count['Hospital Ownership Count'] == unique_hospital_types]\n",
    "\n",
    "# Get the count of such states\n",
    "num_states_with_all_types = len(states_with_all_hospital_types)\n",
    "\n",
    "# Display the result\n",
    "print(f\"Number of states that have all the Hospital Ownership: {num_states_with_all_types}\")\n"
   ]
  },
  {
   "cell_type": "code",
   "execution_count": 17,
   "id": "c6552a8a-a827-440d-9b78-2da801024c1b",
   "metadata": {},
   "outputs": [
    {
     "name": "stdout",
     "output_type": "stream",
     "text": [
      "Top 5 states with the most Hospital Ownerships:\n",
      "   State  Hospital Ownership Count\n",
      "5     CA                        10\n",
      "39    OK                        10\n",
      "38    OH                        10\n",
      "28    MS                        10\n",
      "47    TX                        10\n",
      "4     AZ                         9\n",
      "6     CO                         9\n",
      "18    KS                         9\n",
      "20    LA                         9\n",
      "19    KY                         9\n"
     ]
    }
   ],
   "source": [
    "# Group by 'State' and count the number of unique 'Facility Name'\n",
    "state_facility_count = combined_df.groupby('State')['Hospital Ownership'].nunique().reset_index(name='Hospital Ownership Count')\n",
    "\n",
    "# Sort by 'Facility Count' in descending order to find the states with the most facilities\n",
    "state_facility_count_sorted = state_facility_count.sort_values(by='Hospital Ownership Count', ascending=False)\n",
    "\n",
    "# Get the top 5 states with the most facilities\n",
    "top_5_states = state_facility_count_sorted.head(10)\n",
    "\n",
    "# Display the result\n",
    "print(\"Top 5 states with the most Hospital Ownerships:\")\n",
    "print(top_5_states[['State', 'Hospital Ownership Count']])"
   ]
  },
  {
   "cell_type": "code",
   "execution_count": 18,
   "id": "5d0aba46-c4af-481f-ad38-21d41cdb8b7e",
   "metadata": {},
   "outputs": [
    {
     "name": "stdout",
     "output_type": "stream",
     "text": [
      "Number of cities that have all the hospital types: 0\n"
     ]
    }
   ],
   "source": [
    "# Get the unique 'Hospital Type' values\n",
    "unique_hospital_types = combined_df['Hospital Ownership'].nunique()\n",
    "\n",
    "# Group by 'State' and count the unique 'Hospital Type' values for each state\n",
    "state_hospital_type_count = combined_df.groupby('City')['Hospital Ownership'].nunique().reset_index(name='Hospital Type Count')\n",
    "\n",
    "# Filter states where the 'Hospital Type Count' is equal to the total number of unique hospital types\n",
    "states_with_all_hospital_types = state_hospital_type_count[state_hospital_type_count['Hospital Type Count'] == unique_hospital_types]\n",
    "\n",
    "# Get the count of such states\n",
    "num_states_with_all_types = len(states_with_all_hospital_types)\n",
    "\n",
    "# Display the result\n",
    "print(f\"Number of cities that have all the Hospital Ownership: {num_states_with_all_types}\")"
   ]
  },
  {
   "cell_type": "code",
   "execution_count": 19,
   "id": "e0fab7b3-8e7c-4919-aa8f-cdc549c94ed1",
   "metadata": {},
   "outputs": [
    {
     "name": "stdout",
     "output_type": "stream",
     "text": [
      "Top 5 cities with the most Hospital Ownership:\n",
      "     State         City  Facility Count\n",
      "315     CA  LOS ANGELES               7\n",
      "189     AZ      PHOENIX               7\n",
      "3214    TX       DALLAS               7\n",
      "987     IL      CHICAGO               6\n",
      "385     CA     SAN JOSE               6\n"
     ]
    }
   ],
   "source": [
    "# Group by 'State' and 'City' and count the number of unique 'Facility Name'\n",
    "state_city_facility_count = combined_df.groupby(['State', 'City'])['Hospital Ownership'].nunique().reset_index(name='Facility Count')\n",
    "\n",
    "# Sort by 'Facility Count' in descending order to find the states and cities with the most facilities\n",
    "state_city_facility_count_sorted = state_city_facility_count.sort_values(by='Facility Count', ascending=False)\n",
    "\n",
    "# Get the top 5 states and cities with the most facilities\n",
    "top_5_states_cities = state_city_facility_count_sorted.head(5)\n",
    "\n",
    "# Display the result\n",
    "print(\"Top 5 cities with the most Hospital Ownership:\")\n",
    "print(top_5_states_cities[['State', 'City', 'Facility Count']])"
   ]
  },
  {
   "cell_type": "markdown",
   "id": "111a4de9-4660-4952-a99d-4fcb1c73564b",
   "metadata": {},
   "source": [
    "### Informacion sobre las encuestas"
   ]
  },
  {
   "cell_type": "code",
   "execution_count": 7,
   "id": "3a7ba9d6-cdde-41dc-badf-a5bf52f08495",
   "metadata": {},
   "outputs": [
    {
     "name": "stdout",
     "output_type": "stream",
     "text": [
      "The year with the most completed surveys is 2020 with a total of 262167744.0 surveys.\n"
     ]
    }
   ],
   "source": [
    "# Ensure 'Number of Completed Surveys' is numeric, convert if necessary\n",
    "combined_df['Number of Completed Surveys'] = pd.to_numeric(combined_df['Number of Completed Surveys'], errors='coerce')\n",
    "\n",
    "# Group by 'Year' and sum the 'Number of Completed Surveys'\n",
    "completed_surveys_by_year = combined_df.groupby('Year')['Number of Completed Surveys'].sum()\n",
    "\n",
    "# Find the year with the highest number of completed surveys\n",
    "max_surveys_year = completed_surveys_by_year.idxmax()\n",
    "max_surveys_count = completed_surveys_by_year.max()\n",
    "\n",
    "# Display the result\n",
    "print(f\"The year with the most completed surveys is {max_surveys_year} with a total of {max_surveys_count} surveys.\")"
   ]
  },
  {
   "cell_type": "code",
   "execution_count": 23,
   "id": "4b0d4899-57c6-428d-afd9-176dc6033486",
   "metadata": {},
   "outputs": [
    {
     "name": "stdout",
     "output_type": "stream",
     "text": [
      "   Year  Number of Completed Surveys\n",
      "4  2020                  262167744.0\n",
      "3  2019                  258864942.0\n",
      "0  2016                  171010675.0\n",
      "1  2017                  169205410.0\n",
      "2  2018                  145891550.0\n"
     ]
    }
   ],
   "source": [
    "# Group by Year, State, and City, then sum the 'Number of Completed Surveys'\n",
    "surveys_by_state_city_year = combined_df.groupby(['Year'])['Number of Completed Surveys'].sum().reset_index()\n",
    "\n",
    "# For each year, find the state and city with the maximum number of completed surveys\n",
    "max_surveys_per_year = surveys_by_state_city_year.loc[surveys_by_state_city_year.groupby('Year')['Number of Completed Surveys'].idxmax()]\n",
    "\n",
    "max_surveys_per_year = max_surveys_per_year.sort_values(by='Number of Completed Surveys', ascending=False)\n",
    "# Display the result\n",
    "print(max_surveys_per_year[['Year', 'Number of Completed Surveys']])"
   ]
  },
  {
   "cell_type": "code",
   "execution_count": 24,
   "id": "7c0a694d-7cc8-43d5-a55d-3de9920a797e",
   "metadata": {},
   "outputs": [
    {
     "name": "stdout",
     "output_type": "stream",
     "text": [
      "     Year State  Number of Completed Surveys\n",
      "5    2016    CA                   19141870.0\n",
      "61   2017    CA                   18654900.0\n",
      "117  2018    CA                   16101900.0\n",
      "173  2019    CA                   28868316.0\n",
      "229  2020    CA                   29167125.0\n"
     ]
    }
   ],
   "source": [
    "# Group by Year, State, and City, then sum the 'Number of Completed Surveys'\n",
    "surveys_by_state_city_year = combined_df.groupby(['Year', 'State'])['Number of Completed Surveys'].sum().reset_index()\n",
    "\n",
    "# For each year, find the state and city with the maximum number of completed surveys\n",
    "max_surveys_per_year = surveys_by_state_city_year.loc[surveys_by_state_city_year.groupby('Year')['Number of Completed Surveys'].idxmax()]\n",
    "\n",
    "# Display the result\n",
    "print(max_surveys_per_year[['Year', 'State', 'Number of Completed Surveys']])"
   ]
  },
  {
   "cell_type": "code",
   "execution_count": 25,
   "id": "8709dacb-0590-4ab9-8e84-65486392f8ec",
   "metadata": {},
   "outputs": [
    {
     "name": "stdout",
     "output_type": "stream",
     "text": [
      "       Year State         City  Number of Completed Surveys\n",
      "3213   2016    TX      HOUSTON                    1382535.0\n",
      "7035   2017    TX  SAN ANTONIO                    1326270.0\n",
      "10662  2018    TX      HOUSTON                    1129350.0\n",
      "14362  2019    TX      HOUSTON                    2062275.0\n",
      "18167  2020    TX  SAN ANTONIO                    1937097.0\n"
     ]
    }
   ],
   "source": [
    "# Group by Year, State, and City, then sum the 'Number of Completed Surveys'\n",
    "surveys_by_state_city_year = combined_df.groupby(['Year', 'State', 'City'])['Number of Completed Surveys'].sum().reset_index()\n",
    "\n",
    "# For each year, find the state and city with the maximum number of completed surveys\n",
    "max_surveys_per_year = surveys_by_state_city_year.loc[surveys_by_state_city_year.groupby('Year')['Number of Completed Surveys'].idxmax()]\n",
    "\n",
    "# Display the result\n",
    "print(max_surveys_per_year[['Year', 'State', 'City', 'Number of Completed Surveys']])"
   ]
  },
  {
   "cell_type": "code",
   "execution_count": 10,
   "id": "edd20a84-2f8f-4325-bb3a-02a0a9e67c3b",
   "metadata": {},
   "outputs": [
    {
     "name": "stdout",
     "output_type": "stream",
     "text": [
      "       Year State     City         Facility Name  Number of Completed Surveys\n",
      "845    2016    FL  ORLANDO      FLORIDA HOSPITAL                     726880.0\n",
      "5657   2017    FL  ORLANDO      FLORIDA HOSPITAL                     742170.0\n",
      "10462  2018    FL  ORLANDO      FLORIDA HOSPITAL                     596000.0\n",
      "15253  2019    FL  ORLANDO  ADVENTHEALTH ORLANDO                    1132833.0\n",
      "20015  2020    FL  ORLANDO  ADVENTHEALTH ORLANDO                    1174404.0\n"
     ]
    }
   ],
   "source": [
    "# Group by Year, State, and City, then sum the 'Number of Completed Surveys'\n",
    "surveys_by_state_city_year = combined_df.groupby(['Year', 'State', 'City', 'Facility Name'])['Number of Completed Surveys'].sum().reset_index()\n",
    "\n",
    "# For each year, find the state and city with the maximum number of completed surveys\n",
    "max_surveys_per_year = surveys_by_state_city_year.loc[surveys_by_state_city_year.groupby('Year')['Number of Completed Surveys'].idxmax()]\n",
    "\n",
    "# Display the result\n",
    "print(max_surveys_per_year[['Year', 'State', 'City', 'Facility Name', 'Number of Completed Surveys']])"
   ]
  },
  {
   "cell_type": "code",
   "execution_count": 26,
   "id": "54821dbe-817b-40fb-b00c-dd74c76a6a65",
   "metadata": {},
   "outputs": [
    {
     "name": "stdout",
     "output_type": "stream",
     "text": [
      "       Year State     City         Facility Name         Hospital Type  \\\n",
      "845    2016    FL  ORLANDO      FLORIDA HOSPITAL  Acute Care Hospitals   \n",
      "5658   2017    FL  ORLANDO      FLORIDA HOSPITAL  Acute Care Hospitals   \n",
      "10463  2018    FL  ORLANDO      FLORIDA HOSPITAL  Acute Care Hospitals   \n",
      "15254  2019    FL  ORLANDO  ADVENTHEALTH ORLANDO  Acute Care Hospitals   \n",
      "20016  2020    FL  ORLANDO  ADVENTHEALTH ORLANDO  Acute Care Hospitals   \n",
      "\n",
      "       Number of Completed Surveys  \n",
      "845                       726880.0  \n",
      "5658                      742170.0  \n",
      "10463                     596000.0  \n",
      "15254                    1132833.0  \n",
      "20016                    1174404.0  \n"
     ]
    }
   ],
   "source": [
    "# Group by Year, State, and City, then sum the 'Number of Completed Surveys'\n",
    "surveys_by_state_city_year = combined_df.groupby(['Year', 'State', 'City', 'Facility Name', 'Hospital Type'])['Number of Completed Surveys'].sum().reset_index()\n",
    "\n",
    "# For each year, find the state and city with the maximum number of completed surveys\n",
    "max_surveys_per_year = surveys_by_state_city_year.loc[surveys_by_state_city_year.groupby('Year')['Number of Completed Surveys'].idxmax()]\n",
    "\n",
    "# Display the result\n",
    "print(max_surveys_per_year[['Year', 'State', 'City', 'Facility Name', 'Hospital Type', 'Number of Completed Surveys']])"
   ]
  },
  {
   "cell_type": "code",
   "execution_count": 27,
   "id": "27c439de-28fb-4db8-96ba-5e657e74d29e",
   "metadata": {},
   "outputs": [
    {
     "name": "stdout",
     "output_type": "stream",
     "text": [
      "       Year State     City         Facility Name         Hospital Type  \\\n",
      "845    2016    FL  ORLANDO      FLORIDA HOSPITAL  Acute Care Hospitals   \n",
      "5659   2017    FL  ORLANDO      FLORIDA HOSPITAL  Acute Care Hospitals   \n",
      "10464  2018    FL  ORLANDO      FLORIDA HOSPITAL  Acute Care Hospitals   \n",
      "15255  2019    FL  ORLANDO  ADVENTHEALTH ORLANDO  Acute Care Hospitals   \n",
      "20017  2020    FL  ORLANDO  ADVENTHEALTH ORLANDO  Acute Care Hospitals   \n",
      "\n",
      "                   Hospital Ownership  Number of Completed Surveys  \n",
      "845    Voluntary non-profit - Private                     726880.0  \n",
      "5659   Voluntary non-profit - Private                     742170.0  \n",
      "10464  Voluntary non-profit - Private                     596000.0  \n",
      "15255  Voluntary non-profit - Private                    1132833.0  \n",
      "20017  Voluntary non-profit - Private                    1174404.0  \n"
     ]
    }
   ],
   "source": [
    "# Group by Year, State, and City, then sum the 'Number of Completed Surveys'\n",
    "surveys_by_state_city_year = combined_df.groupby(['Year', 'State', 'City', 'Facility Name', 'Hospital Type', 'Hospital Ownership'])['Number of Completed Surveys'].sum().reset_index()\n",
    "\n",
    "# For each year, find the state and city with the maximum number of completed surveys\n",
    "max_surveys_per_year = surveys_by_state_city_year.loc[surveys_by_state_city_year.groupby('Year')['Number of Completed Surveys'].idxmax()]\n",
    "\n",
    "# Display the result\n",
    "print(max_surveys_per_year[['Year', 'State', 'City', 'Facility Name', 'Hospital Type', 'Hospital Ownership', 'Number of Completed Surveys']])"
   ]
  },
  {
   "cell_type": "code",
   "execution_count": 28,
   "id": "2c6376c2-eb2e-446a-b328-560a58558391",
   "metadata": {},
   "outputs": [
    {
     "name": "stdout",
     "output_type": "stream",
     "text": [
      "The facility with the most completed surveys is 'METHODIST HOSPITAL' with 4218850.0 surveys.\n",
      "The ownership type of this facility is: Acute Care Hospitals.\n",
      "The ownership type of this facility is: Voluntary non-profit - Church.\n"
     ]
    }
   ],
   "source": [
    "# Ensure 'Number of Completed Surveys' is numeric\n",
    "combined_df['Number of Completed Surveys'] = pd.to_numeric(combined_df['Number of Completed Surveys'], errors='coerce')\n",
    "\n",
    "# Group by Facility Name and sum the 'Number of Completed Surveys'\n",
    "surveys_by_facility = combined_df.groupby('Facility Name')['Number of Completed Surveys'].sum().reset_index()\n",
    "\n",
    "# Identify the facility with the maximum number of completed surveys\n",
    "max_surveys_facility = surveys_by_facility.loc[surveys_by_facility['Number of Completed Surveys'].idxmax()]\n",
    "\n",
    "# Get the 'Facility Name' with the maximum surveys\n",
    "facility_name = max_surveys_facility['Facility Name']\n",
    "\n",
    "# Extract the corresponding 'Hospital Ownership' for that facility from the original DataFrame\n",
    "facility_ownership = combined_df[combined_df['Facility Name'] == facility_name]['Hospital Ownership'].iloc[0]\n",
    "\n",
    "# Extract the corresponding 'Hospital Ownership' for that facility from the original DataFrame\n",
    "facility_type = combined_df[combined_df['Facility Name'] == facility_name]['Hospital Type'].iloc[0]\n",
    "\n",
    "# Display the result\n",
    "print(f\"The facility with the most completed surveys is '{facility_name}' with {max_surveys_facility['Number of Completed Surveys']} surveys.\")\n",
    "print(f\"The ownership type of this facility is: {facility_type}.\")\n",
    "print(f\"The ownership type of this facility is: {facility_ownership}.\")"
   ]
  },
  {
   "cell_type": "code",
   "execution_count": 29,
   "id": "efa8fe44-535f-4b2c-9e3b-7f4cfef205d3",
   "metadata": {},
   "outputs": [
    {
     "name": "stdout",
     "output_type": "stream",
     "text": [
      "       Year         Facility Name              Hospital Ownership  \\\n",
      "2481   2016    METHODIST HOSPITAL   Voluntary non-profit - Church   \n",
      "7104   2017    METHODIST HOSPITAL   Voluntary non-profit - Church   \n",
      "11736  2018    METHODIST HOSPITAL   Voluntary non-profit - Church   \n",
      "13875  2019  ADVENTHEALTH ORLANDO  Voluntary non-profit - Private   \n",
      "18471  2020  ADVENTHEALTH ORLANDO  Voluntary non-profit - Private   \n",
      "\n",
      "       Number of Completed Surveys  \n",
      "2481                      745745.0  \n",
      "7104                      778800.0  \n",
      "11736                     635750.0  \n",
      "13875                    1132833.0  \n",
      "18471                    1174404.0  \n"
     ]
    }
   ],
   "source": [
    "# Ensure 'Number of Completed Surveys' is numeric\n",
    "combined_df['Number of Completed Surveys'] = pd.to_numeric(combined_df['Number of Completed Surveys'], errors='coerce')\n",
    "\n",
    "# Group by Year and Facility Name, then sum the 'Number of Completed Surveys'\n",
    "surveys_by_facility_year = combined_df.groupby(['Year', 'Facility Name'])['Number of Completed Surveys'].sum().reset_index()\n",
    "\n",
    "# For each year, find the facility with the maximum number of completed surveys\n",
    "max_surveys_per_year = surveys_by_facility_year.loc[\n",
    "    surveys_by_facility_year.groupby('Year')['Number of Completed Surveys'].idxmax()\n",
    "]\n",
    "\n",
    "# Extracting the ownership information for each facility\n",
    "max_surveys_per_year['Hospital Ownership'] = max_surveys_per_year['Facility Name'].apply(\n",
    "    lambda x: combined_df[combined_df['Facility Name'] == x]['Hospital Ownership'].iloc[0]\n",
    ")\n",
    "\n",
    "# Display the result\n",
    "print(max_surveys_per_year[['Year', 'Facility Name', 'Hospital Ownership', 'Number of Completed Surveys']])"
   ]
  },
  {
   "cell_type": "code",
   "execution_count": 14,
   "id": "347f6525-c8c7-4ecc-9e8b-c35885bd9025",
   "metadata": {},
   "outputs": [
    {
     "name": "stdout",
     "output_type": "stream",
     "text": [
      "    Year              Hospital Ownership  Number of Completed Surveys\n",
      "9   2016  Voluntary non-profit - Private                   80918970.0\n",
      "19  2017  Voluntary non-profit - Private                   80850605.0\n",
      "29  2018  Voluntary non-profit - Private                   71911500.0\n",
      "39  2019  Voluntary non-profit - Private                  131538084.0\n",
      "50  2020  Voluntary non-profit - Private                  136389336.0\n"
     ]
    }
   ],
   "source": [
    "# Ensure 'Number of Completed Surveys' is numeric\n",
    "combined_df['Number of Completed Surveys'] = pd.to_numeric(combined_df['Number of Completed Surveys'], errors='coerce')\n",
    "\n",
    "# Group by Year and Hospital Ownership, then sum the 'Number of Completed Surveys'\n",
    "surveys_by_ownership_year = combined_df.groupby(['Year', 'Hospital Ownership'])['Number of Completed Surveys'].sum().reset_index()\n",
    "\n",
    "# For each year, find the hospital ownership type with the maximum number of completed surveys\n",
    "max_surveys_per_ownership_year = surveys_by_ownership_year.loc[\n",
    "    surveys_by_ownership_year.groupby('Year')['Number of Completed Surveys'].idxmax()\n",
    "]\n",
    "\n",
    "# Display the result\n",
    "print(max_surveys_per_ownership_year[['Year', 'Hospital Ownership', 'Number of Completed Surveys']])"
   ]
  },
  {
   "cell_type": "markdown",
   "id": "b635bfa2-5f41-448b-ab55-e2c730f4191e",
   "metadata": {},
   "source": [
    "### Informacion sobre Calificaciones "
   ]
  },
  {
   "cell_type": "code",
   "execution_count": 35,
   "id": "77aedfec-171f-4586-be01-8f724acfa2a3",
   "metadata": {},
   "outputs": [
    {
     "name": "stdout",
     "output_type": "stream",
     "text": [
      "Overall average 'Patient Survey Star Rating' across all states and years: 3.19\n"
     ]
    }
   ],
   "source": [
    "# Ensure 'Patient Survey Star Rating' is numeric\n",
    "combined_df['Patient Survey Star Rating'] = pd.to_numeric(combined_df['Patient Survey Star Rating'], errors='coerce')\n",
    "\n",
    "# Calculate the overall average 'Patient Survey Star Rating' across all states and years\n",
    "overall_avg_rating = combined_df['Patient Survey Star Rating'].mean()\n",
    "\n",
    "# Display the overall average rating\n",
    "print(f\"Overall average 'Patient Survey Star Rating' across all states and years: {overall_avg_rating:.2f}\")"
   ]
  },
  {
   "cell_type": "code",
   "execution_count": 36,
   "id": "d8ba7c25-43d9-4e00-8f17-e15efa54c4f2",
   "metadata": {},
   "outputs": [
    {
     "name": "stdout",
     "output_type": "stream",
     "text": [
      "Facility with the highest average 'Patient Survey Star Rating' across all years:\n",
      "Facility Name                 BIGFORK VALLEY HOSPITAL\n",
      "Patient Survey Star Rating                        5.0\n",
      "Name: 584, dtype: object\n"
     ]
    }
   ],
   "source": [
    "# Ensure 'Patient Survey Star Rating' is numeric\n",
    "combined_df['Patient Survey Star Rating'] = pd.to_numeric(combined_df['Patient Survey Star Rating'], errors='coerce')\n",
    "\n",
    "# Group by 'Facility Name' and calculate the average 'Patient Survey Star Rating' for each facility\n",
    "avg_rating_by_facility = combined_df.groupby('Facility Name')['Patient Survey Star Rating'].mean().reset_index()\n",
    "\n",
    "# Find the facility with the highest average rating\n",
    "max_rating_facility = avg_rating_by_facility.loc[avg_rating_by_facility['Patient Survey Star Rating'].idxmax()]\n",
    "\n",
    "# Display the result\n",
    "print(\"Facility with the highest average 'Patient Survey Star Rating' across all years:\")\n",
    "print(max_rating_facility)"
   ]
  },
  {
   "cell_type": "code",
   "execution_count": 38,
   "id": "9cd8a7d7-4256-4621-97d4-5ae57ed561c9",
   "metadata": {},
   "outputs": [
    {
     "name": "stdout",
     "output_type": "stream",
     "text": [
      "Facility with the highest average 'Patient Survey Star Rating' across all years:\n",
      "Facility Name                 ADVANCED SURGICAL HOSPITAL\n",
      "Year                                                2016\n",
      "State                                                 PA\n",
      "City                                          WASHINGTON\n",
      "Patient Survey Star Rating                           5.0\n",
      "Name: 126, dtype: object\n"
     ]
    }
   ],
   "source": [
    "# Assuming combined_df is already loaded\n",
    "# Ensure 'Patient Survey Star Rating' is numeric\n",
    "combined_df['Patient Survey Star Rating'] = pd.to_numeric(combined_df['Patient Survey Star Rating'], errors='coerce')\n",
    "\n",
    "# Group by 'Facility Name', 'State', and 'City', then calculate the average 'Patient Survey Star Rating' for each facility\n",
    "avg_rating_by_facility = combined_df.groupby(['Facility Name', 'Year', 'State', 'City'])['Patient Survey Star Rating'].mean().reset_index()\n",
    "\n",
    "# Find the facility with the highest average rating\n",
    "max_rating_facility = avg_rating_by_facility.loc[avg_rating_by_facility['Patient Survey Star Rating'].idxmax()]\n",
    "\n",
    "# Display the result\n",
    "print(\"Facility with the highest average 'Patient Survey Star Rating' across all years:\")\n",
    "print(max_rating_facility)"
   ]
  },
  {
   "cell_type": "code",
   "execution_count": 30,
   "id": "9506d89a-1e39-4363-8803-8f4946f29b4a",
   "metadata": {},
   "outputs": [
    {
     "name": "stdout",
     "output_type": "stream",
     "text": [
      "   Year  Patient Survey Star Rating\n",
      "0  2016                    3.207738\n",
      "1  2017                    3.245893\n",
      "2  2018                    3.193531\n",
      "3  2019                    3.142262\n",
      "4  2020                    3.167822\n"
     ]
    }
   ],
   "source": [
    "# Ensure 'Patient Survey Star Rating' is numeric\n",
    "combined_df['Patient Survey Star Rating'] = pd.to_numeric(combined_df['Patient Survey Star Rating'], errors='coerce')\n",
    "\n",
    "# Group by Year and State, then calculate the average 'Patient Survey Star Rating'\n",
    "avg_rating_by_state_year = combined_df.groupby(['Year'])['Patient Survey Star Rating'].mean().reset_index()\n",
    "\n",
    "# For each year, find the state with the highest average star rating\n",
    "max_rating_per_state_year = avg_rating_by_state_year.loc[\n",
    "    avg_rating_by_state_year.groupby('Year')['Patient Survey Star Rating'].idxmax()\n",
    "]\n",
    "\n",
    "# Display the result\n",
    "print(max_rating_per_state_year[['Year', 'Patient Survey Star Rating']])"
   ]
  },
  {
   "cell_type": "code",
   "execution_count": 17,
   "id": "aed69128-3975-44a5-95f5-228c5d117fd0",
   "metadata": {},
   "outputs": [
    {
     "name": "stdout",
     "output_type": "stream",
     "text": [
      "     Year State  Patient Survey Star Rating\n",
      "45   2016    SD                    3.980392\n",
      "101  2017    SD                    3.967593\n",
      "144  2018    NE                    3.923890\n",
      "200  2019    NE                    3.893570\n",
      "277  2020    WI                    3.882849\n"
     ]
    }
   ],
   "source": [
    "# Ensure 'Patient Survey Star Rating' is numeric\n",
    "combined_df['Patient Survey Star Rating'] = pd.to_numeric(combined_df['Patient Survey Star Rating'], errors='coerce')\n",
    "\n",
    "# Group by Year and State, then calculate the average 'Patient Survey Star Rating'\n",
    "avg_rating_by_state_year = combined_df.groupby(['Year', 'State'])['Patient Survey Star Rating'].mean().reset_index()\n",
    "\n",
    "# For each year, find the state with the highest average star rating\n",
    "max_rating_per_state_year = avg_rating_by_state_year.loc[\n",
    "    avg_rating_by_state_year.groupby('Year')['Patient Survey Star Rating'].idxmax()\n",
    "]\n",
    "\n",
    "# Display the result\n",
    "print(max_rating_per_state_year[['Year', 'State', 'Patient Survey Star Rating']])"
   ]
  },
  {
   "cell_type": "code",
   "execution_count": 13,
   "id": "490c9e99-8b11-43c3-9b23-fcc6a9cc250f",
   "metadata": {},
   "outputs": [
    {
     "name": "stdout",
     "output_type": "stream",
     "text": [
      "       Year                    Facility Name State       City  \\\n",
      "0      2016    ABBEVILLE AREA MEDICAL CENTER    SC  ABBEVILLE   \n",
      "4806   2017       ABBEVILLE GENERAL HOSPITAL    LA  ABBEVILLE   \n",
      "9617   2018    ABBEVILLE AREA MEDICAL CENTER    SC  ABBEVILLE   \n",
      "14411  2019       ABBEVILLE GENERAL HOSPITAL    LA  ABBEVILLE   \n",
      "19167  2020  1st Medical Group (Langley AFB)    VA    Langley   \n",
      "\n",
      "       Patient Survey Star Rating  \n",
      "0                             5.0  \n",
      "4806                          5.0  \n",
      "9617                          5.0  \n",
      "14411                         5.0  \n",
      "19167                         5.0  \n"
     ]
    }
   ],
   "source": [
    "# Ensure 'Patient Survey Star Rating' is numeric\n",
    "combined_df['Patient Survey Star Rating'] = pd.to_numeric(combined_df['Patient Survey Star Rating'], errors='coerce')\n",
    "\n",
    "# Group by Year, Facility Name, and City, then find the maximum 'Patient Survey Star Rating'\n",
    "star_rating_by_hospital_year = combined_df.groupby(['Year', 'Facility Name', 'State', 'City'])['Patient Survey Star Rating'].max().reset_index()\n",
    "\n",
    "# For each year, find the hospital with the highest star rating\n",
    "max_star_rating_per_year = star_rating_by_hospital_year.loc[\n",
    "    star_rating_by_hospital_year.groupby('Year')['Patient Survey Star Rating'].idxmax()\n",
    "]\n",
    "\n",
    "# Display the result with Facility Name, City, Year, and Patient Survey Star Rating\n",
    "print(max_star_rating_per_year[['Year', 'Facility Name', 'State', 'City', 'Patient Survey Star Rating']])"
   ]
  },
  {
   "cell_type": "code",
   "execution_count": 15,
   "id": "a311afb8-2663-4576-bd4a-a169abd218c3",
   "metadata": {},
   "outputs": [
    {
     "name": "stdout",
     "output_type": "stream",
     "text": [
      "    Year              Hospital Type  Patient Survey Star Rating\n",
      "2   2016  Critical Access Hospitals                    3.894766\n",
      "5   2017  Critical Access Hospitals                    3.937365\n",
      "8   2018  Critical Access Hospitals                    3.927672\n",
      "11  2019  Critical Access Hospitals                    3.944024\n",
      "15  2020  Critical Access Hospitals                    3.989240\n"
     ]
    }
   ],
   "source": [
    "# Ensure 'Patient Survey Star Rating' is numeric\n",
    "combined_df['Patient Survey Star Rating'] = pd.to_numeric(combined_df['Patient Survey Star Rating'], errors='coerce')\n",
    "\n",
    "# Group by Year and Hospital Type, then calculate the average 'Patient Survey Star Rating'\n",
    "avg_rating_by_type_year = combined_df.groupby(['Year', 'Hospital Type'])['Patient Survey Star Rating'].mean().reset_index()\n",
    "\n",
    "# For each year, find the hospital type with the highest average star rating\n",
    "max_rating_per_year = avg_rating_by_type_year.loc[\n",
    "    avg_rating_by_type_year.groupby('Year')['Patient Survey Star Rating'].idxmax()\n",
    "]\n",
    "\n",
    "# Display the result\n",
    "print(max_rating_per_year[['Year', 'Hospital Type', 'Patient Survey Star Rating']])"
   ]
  },
  {
   "cell_type": "code",
   "execution_count": 16,
   "id": "38a609ae-8896-4dd2-b96f-283d41a7dca2",
   "metadata": {},
   "outputs": [
    {
     "name": "stdout",
     "output_type": "stream",
     "text": [
      "    Year Hospital Ownership  Patient Survey Star Rating\n",
      "4   2016          Physician                    4.324468\n",
      "14  2017          Physician                    4.288333\n",
      "24  2018          Physician                    4.272727\n",
      "34  2019          Physician                    4.178737\n",
      "45  2020          Physician                    4.171386\n"
     ]
    }
   ],
   "source": [
    "# Assuming combined_df is already loaded\n",
    "# Ensure 'Patient Survey Star Rating' is numeric\n",
    "combined_df['Patient Survey Star Rating'] = pd.to_numeric(combined_df['Patient Survey Star Rating'], errors='coerce')\n",
    "\n",
    "# Group by Year and Hospital Ownership, then calculate the average 'Patient Survey Star Rating'\n",
    "avg_rating_by_ownership_year = combined_df.groupby(['Year', 'Hospital Ownership'])['Patient Survey Star Rating'].mean().reset_index()\n",
    "\n",
    "# For each year, find the ownership type with the highest average star rating\n",
    "max_rating_per_ownership_year = avg_rating_by_ownership_year.loc[\n",
    "    avg_rating_by_ownership_year.groupby('Year')['Patient Survey Star Rating'].idxmax()\n",
    "]\n",
    "\n",
    "# Display the result\n",
    "print(max_rating_per_ownership_year[['Year', 'Hospital Ownership', 'Patient Survey Star Rating']])"
   ]
  },
  {
   "cell_type": "markdown",
   "id": "cb24d2f7-19b4-4526-9bcc-5183562d7da1",
   "metadata": {},
   "source": [
    "### Que tipo de soporte tienen para el paciente"
   ]
  },
  {
   "cell_type": "markdown",
   "id": "0a4f9fbe-6002-4ae5-83d8-df075f76e84a",
   "metadata": {},
   "source": [
    "### Tiene servicios de emergencia?"
   ]
  },
  {
   "cell_type": "code",
   "execution_count": 19,
   "id": "eb4e3c51-35a9-4e2e-8802-0c866466ba2f",
   "metadata": {},
   "outputs": [
    {
     "name": "stdout",
     "output_type": "stream",
     "text": [
      "       Year      Facility Name  Yes Count\n",
      "2209   2016  MEMORIAL HOSPITAL        825\n",
      "6539   2017  MEMORIAL HOSPITAL        825\n",
      "10837  2018  MEMORIAL HOSPITAL        750\n",
      "15089  2019  MEMORIAL HOSPITAL       1395\n",
      "19341  2020  MEMORIAL HOSPITAL       1209\n"
     ]
    }
   ],
   "source": [
    "# Filter the dataframe to include only hospitals with \"Yes\" for Emergency Services\n",
    "emergency_services_df = combined_df[combined_df['Emergency Services'] == 'Yes']\n",
    "\n",
    "# Group by Year, City, State, and Facility (or Hospital name) to count the number of \"Yes\" responses\n",
    "response_counts = emergency_services_df.groupby(['Year', 'Facility Name']).size().reset_index(name='Yes Count')\n",
    "\n",
    "# For each Year, City, and State, find the facility with the highest \"Yes Count\"\n",
    "top_facilities = response_counts.loc[response_counts.groupby(['Year'])['Yes Count'].idxmax()]\n",
    "\n",
    "# Display the top facilities with the highest \"Yes\" responses by Year, City, and State\n",
    "print(top_facilities)"
   ]
  },
  {
   "cell_type": "code",
   "execution_count": 18,
   "id": "f3e574b0-eb4f-45cb-aa3c-bf8a7cf9f42e",
   "metadata": {},
   "outputs": [
    {
     "name": "stdout",
     "output_type": "stream",
     "text": [
      "       Year     City State  Hospital Count\n",
      "571    2016  CHICAGO    IL            1430\n",
      "4201   2017  CHICAGO    IL            1430\n",
      "7803   2018  CHICAGO    IL            1300\n",
      "11364  2019  CHICAGO    IL            2418\n",
      "14917  2020  CHICAGO    IL            2511\n"
     ]
    }
   ],
   "source": [
    "# Filter the dataframe to include only hospitals with \"Yes\" for Emergency Services\n",
    "emergency_services_df = combined_df[combined_df['Emergency Services'] == 'Yes']\n",
    "\n",
    "# Group by Year, City, and State to count the number of hospitals with Emergency Services\n",
    "response_counts = emergency_services_df.groupby(['Year', 'City', 'State']).size().reset_index(name='Hospital Count')\n",
    "\n",
    "# For each year, find the city and state with the highest hospital count\n",
    "top_cities_states = response_counts.loc[response_counts.groupby('Year')['Hospital Count'].idxmax()]\n",
    "\n",
    "# Display the top cities and states by year\n",
    "print(top_cities_states)"
   ]
  },
  {
   "cell_type": "code",
   "execution_count": 20,
   "id": "9fd2ab18-3868-4a84-852f-bb532099df77",
   "metadata": {},
   "outputs": [
    {
     "name": "stdout",
     "output_type": "stream",
     "text": [
      "       Year        City State                  Facility Name  Yes Count\n",
      "2059   2016  KILMARNOCK    VA  RAPPAHANNOCK GENERAL HOSPITAL        110\n",
      "4510   2017   ABBEVILLE    LA     ABBEVILLE GENERAL HOSPITAL         55\n",
      "8998   2018   ABBEVILLE    LA     ABBEVILLE GENERAL HOSPITAL         50\n",
      "13413  2019   ABBEVILLE    LA     ABBEVILLE GENERAL HOSPITAL         93\n",
      "19571  2020   HILLSBORO    TX         HILL REGIONAL HOSPITAL        186\n"
     ]
    }
   ],
   "source": [
    "# Filter the dataframe to include only hospitals with \"Yes\" for Emergency Services\n",
    "emergency_services_df = combined_df[combined_df['Emergency Services'] == 'Yes']\n",
    "\n",
    "# Group by Year, City, State, and Facility Name to count the number of \"Yes\" responses\n",
    "response_counts = emergency_services_df.groupby(['Year', 'City', 'State', 'Facility Name']).size().reset_index(name='Yes Count')\n",
    "\n",
    "# For each Year, find the facility with the highest \"Yes Count\" (and include City and State)\n",
    "top_facilities = response_counts.loc[response_counts.groupby(['Year'])['Yes Count'].idxmax()]\n",
    "\n",
    "# Display the top facilities with the highest \"Yes\" responses by Year, City, and State\n",
    "print(top_facilities)"
   ]
  },
  {
   "cell_type": "code",
   "execution_count": 21,
   "id": "497301a7-e99a-44d3-864d-22daf7ee54d0",
   "metadata": {},
   "outputs": [
    {
     "name": "stdout",
     "output_type": "stream",
     "text": [
      "       Year     City State              Hospital Ownership  Yes Count\n",
      "650    2016  CHICAGO    IL  Voluntary non-profit - Private        770\n",
      "4719   2017  CHICAGO    IL  Voluntary non-profit - Private        825\n",
      "8762   2018  CHICAGO    IL  Voluntary non-profit - Private        750\n",
      "12737  2019  CHICAGO    IL  Voluntary non-profit - Private       1488\n",
      "16701  2020  CHICAGO    IL  Voluntary non-profit - Private       1488\n"
     ]
    }
   ],
   "source": [
    "# Filter the dataframe to include only hospitals with \"Yes\" for Emergency Services\n",
    "emergency_services_df = combined_df[combined_df['Emergency Services'] == 'Yes']\n",
    "\n",
    "# Group by Year, City, State, and Facility Name to count the number of \"Yes\" responses\n",
    "response_counts = emergency_services_df.groupby(['Year', 'City', 'State', 'Hospital Ownership']).size().reset_index(name='Yes Count')\n",
    "\n",
    "# For each Year, find the facility with the highest \"Yes Count\" (and include City and State)\n",
    "top_facilities = response_counts.loc[response_counts.groupby(['Year'])['Yes Count'].idxmax()]\n",
    "\n",
    "# Display the top facilities with the highest \"Yes\" responses by Year, City, and State\n",
    "print(top_facilities)"
   ]
  },
  {
   "cell_type": "code",
   "execution_count": 16,
   "id": "d9773bfa-e7fb-4405-9a02-8964a7e0331a",
   "metadata": {},
   "outputs": [],
   "source": [
    "# Entendiendo el Negocio"
   ]
  },
  {
   "cell_type": "code",
   "execution_count": 26,
   "id": "8c3efb28-bad5-406f-b364-68ac315cb5c4",
   "metadata": {},
   "outputs": [
    {
     "name": "stdout",
     "output_type": "stream",
     "text": [
      "            Year     City State         Hospital Type  Yes Count\n",
      "577   2016-01-01  CHICAGO    IL  Acute Care Hospitals       1375\n",
      "4261  2017-01-01  CHICAGO    IL  Acute Care Hospitals       1375\n",
      "7917  2018-01-01  CHICAGO    IL  Acute Care Hospitals       1250\n",
      "11529 2019-01-01  CHICAGO    IL  Acute Care Hospitals       2325\n",
      "15134 2020-01-01  CHICAGO    IL  Acute Care Hospitals       2418\n"
     ]
    }
   ],
   "source": [
    "# Filter the dataframe to include only hospitals with \"Yes\" for Emergency Services\n",
    "emergency_services_df = combined_df[combined_df['Emergency Services'] == 'Yes']\n",
    "\n",
    "# Group by Year, City, State, and Facility Name to count the number of \"Yes\" responses\n",
    "response_counts = emergency_services_df.groupby(['Year', 'City', 'State', 'Hospital Type']).size().reset_index(name='Yes Count')\n",
    "\n",
    "# For each Year, find the facility with the highest \"Yes Count\" (and include City and State)\n",
    "top_facilities = response_counts.loc[response_counts.groupby(['Year'])['Yes Count'].idxmax()]\n",
    "\n",
    "# Display the top facilities with the highest \"Yes\" responses by Year, City, and State\n",
    "print(top_facilities)\n"
   ]
  },
  {
   "cell_type": "markdown",
   "id": "b2b003ac-e12c-4ea1-a3c9-deefdb11bb32",
   "metadata": {},
   "source": [
    "### Hospitales con clasificacion de comparacion nacional"
   ]
  },
  {
   "cell_type": "code",
   "execution_count": 24,
   "id": "32a10302-408e-4461-b380-3cfbacea6c6a",
   "metadata": {},
   "outputs": [
    {
     "name": "stdout",
     "output_type": "stream",
     "text": [
      "           Year      City State                    Facility Name  \\\n",
      "0    2016-01-01  ABERDEEN    WA  GRAYS HARBOR COMMUNITY HOSPITAL   \n",
      "341  2017-01-01  ABERDEEN    WA  GRAYS HARBOR COMMUNITY HOSPITAL   \n",
      "682  2018-01-01  ABERDEEN    WA  GRAYS HARBOR COMMUNITY HOSPITAL   \n",
      "1034 2019-01-01  ABERDEEN    WA  GRAYS HARBOR COMMUNITY HOSPITAL   \n",
      "1383 2020-01-01  ABERDEEN    WA  GRAYS HARBOR COMMUNITY HOSPITAL   \n",
      "\n",
      "     Mortality national comparison  Count  \n",
      "0       Below the National average     55  \n",
      "341     Below the national average     55  \n",
      "682     Below the national average     50  \n",
      "1034    Below the national average     93  \n",
      "1383    Below the national average     93  \n"
     ]
    }
   ],
   "source": [
    "# Filter the dataframe to include only hospitals with \"Yes\" for Emergency Services\n",
    "emergency_services_df = combined_df[\n",
    "    (combined_df['Mortality national comparison'] == 'Below the National average') | \n",
    "    (combined_df['Mortality national comparison'] == 'Below the national average')\n",
    "]\n",
    "# Group by Year, City, State, and Facility Name to count the number of \"Yes\" responses\n",
    "response_counts = emergency_services_df.groupby(['Year', 'City', 'State', 'Facility Name', 'Mortality national comparison']).size().reset_index(name='Count')\n",
    "\n",
    "# For each Year, find the facility with the highest \"Yes Count\" (and include City and State)\n",
    "top_facilities = response_counts.loc[response_counts.groupby(['Year'])['Count'].idxmax()]\n",
    "\n",
    "# Display the top facilities with the highest \"Yes\" responses by Year, City, and State\n",
    "print(top_facilities)"
   ]
  },
  {
   "cell_type": "code",
   "execution_count": 25,
   "id": "c93e7e52-de5b-47a6-8476-3987eee276d9",
   "metadata": {},
   "outputs": [
    {
     "name": "stdout",
     "output_type": "stream",
     "text": [
      "           Year      City State                 Facility Name  \\\n",
      "0    2016-01-01  ABERDEEN    SD                AVERA ST LUKES   \n",
      "400  2017-01-01  ABERDEEN    SD                AVERA ST LUKES   \n",
      "800  2018-01-01  ABINGTON    PA    ABINGTON MEMORIAL HOSPITAL   \n",
      "1188 2019-01-01     AKRON    OH  AKRON GENERAL MEDICAL CENTER   \n",
      "1572 2020-01-01     AKRON    OH  AKRON GENERAL MEDICAL CENTER   \n",
      "\n",
      "     Mortality national comparison  Count  \n",
      "0       Above the National average     55  \n",
      "400     Above the national average     55  \n",
      "800     Above the national average     50  \n",
      "1188    Above the national average     93  \n",
      "1572    Above the national average     93  \n"
     ]
    }
   ],
   "source": [
    "# Filter the dataframe to include only hospitals with \"Yes\" for Emergency Services\n",
    "emergency_services_df = combined_df[\n",
    "    (combined_df['Mortality national comparison'] == 'Above the National average') | \n",
    "    (combined_df['Mortality national comparison'] == 'Above the national average')\n",
    "]\n",
    "# Group by Year, City, State, and Facility Name to count the number of \"Yes\" responses\n",
    "response_counts = emergency_services_df.groupby(['Year', 'City', 'State', 'Facility Name', 'Mortality national comparison']).size().reset_index(name='Count')\n",
    "\n",
    "# For each Year, find the facility with the highest \"Yes Count\" (and include City and State)\n",
    "top_facilities = response_counts.loc[response_counts.groupby(['Year'])['Count'].idxmax()]\n",
    "\n",
    "# Display the top facilities with the highest \"Yes\" responses by Year, City, and State\n",
    "print(top_facilities)\n"
   ]
  },
  {
   "cell_type": "code",
   "execution_count": 26,
   "id": "2904b739-9315-4ac1-b9fc-4e81e4cb04f8",
   "metadata": {},
   "outputs": [
    {
     "name": "stdout",
     "output_type": "stream",
     "text": [
      "            Year       City State  \\\n",
      "1810  2016-01-01      OMAHA    NE   \n",
      "2735  2017-01-01  ABBEVILLE    LA   \n",
      "5447  2018-01-01  ABBEVILLE    LA   \n",
      "8135  2019-01-01  ABBEVILLE    LA   \n",
      "10783 2020-01-01  ABBEVILLE    LA   \n",
      "\n",
      "                                           Facility Name  \\\n",
      "1810   CHI HLTH CREIGHTON UNIVERSITY MED CTR-BERGAN M...   \n",
      "2735                          ABBEVILLE GENERAL HOSPITAL   \n",
      "5447                          ABBEVILLE GENERAL HOSPITAL   \n",
      "8135                          ABBEVILLE GENERAL HOSPITAL   \n",
      "10783                         ABBEVILLE GENERAL HOSPITAL   \n",
      "\n",
      "      Mortality national comparison  Count  \n",
      "1810   Same as the National average    110  \n",
      "2735   Same as the national average     55  \n",
      "5447   Same as the national average     50  \n",
      "8135   Same as the national average     93  \n",
      "10783  Same as the national average     93  \n"
     ]
    }
   ],
   "source": [
    "# Filter the dataframe to include only hospitals with \"Yes\" for Emergency Services\n",
    "emergency_services_df = combined_df[\n",
    "    (combined_df['Mortality national comparison'] == 'Same as the National average') | \n",
    "    (combined_df['Mortality national comparison'] == 'Same as the national average')\n",
    "]\n",
    "# Group by Year, City, State, and Facility Name to count the number of \"Yes\" responses\n",
    "response_counts = emergency_services_df.groupby(['Year', 'City', 'State', 'Facility Name', 'Mortality national comparison']).size().reset_index(name='Count')\n",
    "\n",
    "# For each Year, find the facility with the highest \"Yes Count\" (and include City and State)\n",
    "top_facilities = response_counts.loc[response_counts.groupby(['Year'])['Count'].idxmax()]\n",
    "\n",
    "# Display the top facilities with the highest \"Yes\" responses by Year, City, and State\n",
    "print(top_facilities)"
   ]
  },
  {
   "cell_type": "code",
   "execution_count": 32,
   "id": "86edd63c-a51e-4d37-80bd-b1f74488cb27",
   "metadata": {},
   "outputs": [
    {
     "name": "stdout",
     "output_type": "stream",
     "text": [
      "            Year       City State Mortality national comparison  Count\n",
      "208   2016-01-01  BALTIMORE    MD                 Not Available    935\n",
      "4373  2017-01-01  BALTIMORE    MD                 Not Available    935\n",
      "8993  2018-01-01    CHICAGO    IL  Same as the national average    800\n",
      "13141 2019-01-01    CHICAGO    IL  Same as the national average   1581\n",
      "17273 2020-01-01    CHICAGO    IL  Same as the national average   1488\n"
     ]
    }
   ],
   "source": [
    "# Group by Year, City, State, and Facility Name to count the number of \"Yes\" responses\n",
    "response_counts = combined_df.groupby(['Year', 'City', 'State', 'Mortality national comparison']).size().reset_index(name='Count')\n",
    "\n",
    "# For each Year, find the facility with the highest \"Yes Count\" (and include City and State)\n",
    "top_facilities = response_counts.loc[response_counts.groupby(['Year'])['Count'].idxmax()]\n",
    "\n",
    "# Display the top facilities with the highest \"Yes\" responses by Year, City, and State\n",
    "print(top_facilities)"
   ]
  },
  {
   "cell_type": "code",
   "execution_count": 47,
   "id": "36f0451f-2369-4def-8adc-2851ff9c5641",
   "metadata": {},
   "outputs": [
    {
     "name": "stdout",
     "output_type": "stream",
     "text": [
      "           Year       City State                    Facility Name  \\\n",
      "0    2016-01-01   ABERDEEN    WA  GRAYS HARBOR COMMUNITY HOSPITAL   \n",
      "665  2017-01-01   ABERDEEN    WA  GRAYS HARBOR COMMUNITY HOSPITAL   \n",
      "1329 2018-01-01  ABBEVILLE    LA       ABBEVILLE GENERAL HOSPITAL   \n",
      "2239 2019-01-01    ABILENE    TX  ABILENE REGIONAL MEDICAL CENTER   \n",
      "3136 2020-01-01   ABERDEEN    SD  SANFORD MEDICAL CENTER ABERDEEN   \n",
      "\n",
      "     Safety of care national comparison  Count  \n",
      "0            Below the National average     55  \n",
      "665          Below the national average     55  \n",
      "1329         Below the national average     50  \n",
      "2239         Below the national average     93  \n",
      "3136         Below the national average     93  \n"
     ]
    }
   ],
   "source": [
    "# Filter the dataframe to include only hospitals with \"Yes\" for Emergency Services\n",
    "emergency_services_df = combined_df[\n",
    "    (combined_df['Safety of care national comparison'] == 'Below the National average') | \n",
    "    (combined_df['Safety of care national comparison'] == 'Below the national average')\n",
    "]\n",
    "# Group by Year, City, State, and Facility Name to count the number of \"Yes\" responses\n",
    "response_counts = emergency_services_df.groupby(['Year', 'City', 'State', 'Facility Name', 'Safety of care national comparison']).size().reset_index(name='Count')\n",
    "\n",
    "# For each Year, find the facility with the highest \"Yes Count\" (and include City and State)\n",
    "top_facilities = response_counts.loc[response_counts.groupby(['Year'])['Count'].idxmax()]\n",
    "\n",
    "# Display the top facilities with the highest \"Yes\" responses by Year, City, and State\n",
    "print(top_facilities)"
   ]
  },
  {
   "cell_type": "code",
   "execution_count": 48,
   "id": "05f0b53e-b673-426e-ba6b-6d99b0c24c0b",
   "metadata": {},
   "outputs": [
    {
     "name": "stdout",
     "output_type": "stream",
     "text": [
      "           Year       City State                    Facility Name  \\\n",
      "0    2016-01-01  ABBEVILLE    LA       ABBEVILLE GENERAL HOSPITAL   \n",
      "1202 2017-01-01  ABBEVILLE    LA       ABBEVILLE GENERAL HOSPITAL   \n",
      "2394 2018-01-01    ABILENE    TX  ABILENE REGIONAL MEDICAL CENTER   \n",
      "2973 2019-01-01   ABERDEEN    SD                   AVERA ST LUKES   \n",
      "3517 2020-01-01   ABERDEEN    WA  GRAYS HARBOR COMMUNITY HOSPITAL   \n",
      "\n",
      "     Safety of care national comparison  Count  \n",
      "0          Same as the National average     55  \n",
      "1202       Same as the national average     55  \n",
      "2394       Same as the national average     50  \n",
      "2973       Same as the national average     93  \n",
      "3517       Same as the national average     93  \n"
     ]
    }
   ],
   "source": [
    "# Filter the dataframe to include only hospitals with \"Yes\" for Emergency Services\n",
    "emergency_services_df = combined_df[\n",
    "    (combined_df['Safety of care national comparison'] == 'Same as the national average') | \n",
    "    (combined_df['Safety of care national comparison'] == 'Same as the National average')\n",
    "]\n",
    "# Group by Year, City, State, and Facility Name to count the number of \"Yes\" responses\n",
    "response_counts = emergency_services_df.groupby(['Year', 'City', 'State', 'Facility Name', 'Safety of care national comparison']).size().reset_index(name='Count')\n",
    "\n",
    "# For each Year, find the facility with the highest \"Yes Count\" (and include City and State)\n",
    "top_facilities = response_counts.loc[response_counts.groupby(['Year'])['Count'].idxmax()]\n",
    "\n",
    "# Display the top facilities with the highest \"Yes\" responses by Year, City, and State\n",
    "print(top_facilities)"
   ]
  },
  {
   "cell_type": "code",
   "execution_count": 49,
   "id": "f96ebb92-5cbb-42e4-a2be-881794d2c42f",
   "metadata": {},
   "outputs": [
    {
     "name": "stdout",
     "output_type": "stream",
     "text": [
      "           Year       City State  \\\n",
      "528  2016-01-01      OMAHA    NE   \n",
      "786  2017-01-01   ABERDEEN    SD   \n",
      "1570 2018-01-01   ABERDEEN    SD   \n",
      "2716 2019-01-01  ABBEVILLE    LA   \n",
      "3899 2020-01-01  ABBEVILLE    LA   \n",
      "\n",
      "                                          Facility Name  \\\n",
      "528   CHI HLTH CREIGHTON UNIVERSITY MED CTR-BERGAN M...   \n",
      "786                                      AVERA ST LUKES   \n",
      "1570                    SANFORD ABERDEEN MEDICAL CENTER   \n",
      "2716                         ABBEVILLE GENERAL HOSPITAL   \n",
      "3899                         ABBEVILLE GENERAL HOSPITAL   \n",
      "\n",
      "     Safety of care national comparison  Count  \n",
      "528          Above the National average    110  \n",
      "786          Above the national average     55  \n",
      "1570         Above the national average     50  \n",
      "2716         Above the national average     93  \n",
      "3899         Above the national average     93  \n"
     ]
    }
   ],
   "source": [
    "# Filter the dataframe to include only hospitals with \"Yes\" for Emergency Services\n",
    "emergency_services_df = combined_df[\n",
    "    (combined_df['Safety of care national comparison'] == 'Above the National average') | \n",
    "    (combined_df['Safety of care national comparison'] == 'Above the national average')\n",
    "]\n",
    "# Group by Year, City, State, and Facility Name to count the number of \"Yes\" responses\n",
    "response_counts = emergency_services_df.groupby(['Year', 'City', 'State', 'Facility Name', 'Safety of care national comparison']).size().reset_index(name='Count')\n",
    "\n",
    "# For each Year, find the facility with the highest \"Yes Count\" (and include City and State)\n",
    "top_facilities = response_counts.loc[response_counts.groupby(['Year'])['Count'].idxmax()]\n",
    "\n",
    "# Display the top facilities with the highest \"Yes\" responses by Year, City, and State\n",
    "print(top_facilities)"
   ]
  },
  {
   "cell_type": "code",
   "execution_count": 50,
   "id": "2107e9f4-070c-4a7d-b76d-db4617981735",
   "metadata": {},
   "outputs": [
    {
     "data": {
      "text/plain": [
       "array(['Same as the National average', 'Above the National average',\n",
       "       'Below the National average', 'Not Available',\n",
       "       'Same as the national average', 'Above the national average',\n",
       "       'Below the national average'], dtype=object)"
      ]
     },
     "execution_count": 50,
     "metadata": {},
     "output_type": "execute_result"
    }
   ],
   "source": [
    "combined_df['Readmission national comparison'].unique()"
   ]
  },
  {
   "cell_type": "code",
   "execution_count": 51,
   "id": "5099a361-225a-4a04-96bf-96bbb8eddf4d",
   "metadata": {},
   "outputs": [
    {
     "name": "stdout",
     "output_type": "stream",
     "text": [
      "           Year      City State                    Facility Name  \\\n",
      "0    2016-01-01  ABINGDON    VA       JOHNSTON MEMORIAL HOSPITAL   \n",
      "869  2017-01-01  ABINGDON    VA       JOHNSTON MEMORIAL HOSPITAL   \n",
      "1733 2018-01-01  ABERDEEN    MS         MONROE REGIONAL HOSPITAL   \n",
      "3103 2019-01-01  ABINGDON    VA       JOHNSTON MEMORIAL HOSPITAL   \n",
      "4453 2020-01-01  ABERDEEN    SD  SANFORD MEDICAL CENTER ABERDEEN   \n",
      "\n",
      "     Readmission national comparison  Count  \n",
      "0         Below the National average     55  \n",
      "869       Below the national average     55  \n",
      "1733      Below the national average     50  \n",
      "3103      Below the national average     93  \n",
      "4453      Below the national average     93  \n"
     ]
    }
   ],
   "source": [
    "# Filter the dataframe to include only hospitals with \"Yes\" for Emergency Services\n",
    "emergency_services_df = combined_df[\n",
    "    (combined_df['Readmission national comparison'] == 'Below the National average') | \n",
    "    (combined_df['Readmission national comparison'] == 'Below the national average')\n",
    "]\n",
    "# Group by Year, City, State, and Facility Name to count the number of \"Yes\" responses\n",
    "response_counts = emergency_services_df.groupby(['Year', 'City', 'State', 'Facility Name', 'Readmission national comparison']).size().reset_index(name='Count')\n",
    "\n",
    "# For each Year, find the facility with the highest \"Yes Count\" (and include City and State)\n",
    "top_facilities = response_counts.loc[response_counts.groupby(['Year'])['Count'].idxmax()]\n",
    "\n",
    "# Display the top facilities with the highest \"Yes\" responses by Year, City, and State\n",
    "print(top_facilities)"
   ]
  },
  {
   "cell_type": "code",
   "execution_count": 52,
   "id": "d0de969d-418b-49f5-b760-8d91f45a8635",
   "metadata": {},
   "outputs": [
    {
     "name": "stdout",
     "output_type": "stream",
     "text": [
      "           Year       City State               Facility Name  \\\n",
      "0    2016-01-01   ABERDEEN    SD              AVERA ST LUKES   \n",
      "811  2017-01-01   ABERDEEN    SD              AVERA ST LUKES   \n",
      "1620 2018-01-01  ABBEVILLE    LA  ABBEVILLE GENERAL HOSPITAL   \n",
      "3150 2019-01-01  ABBEVILLE    LA  ABBEVILLE GENERAL HOSPITAL   \n",
      "4652 2020-01-01  ABBEVILLE    LA  ABBEVILLE GENERAL HOSPITAL   \n",
      "\n",
      "     Readmission national comparison  Count  \n",
      "0         Above the National average     55  \n",
      "811       Above the national average     55  \n",
      "1620      Above the national average     50  \n",
      "3150      Above the national average     93  \n",
      "4652      Above the national average     93  \n"
     ]
    }
   ],
   "source": [
    "# Filter the dataframe to include only hospitals with \"Yes\" for Emergency Services\n",
    "emergency_services_df = combined_df[\n",
    "    (combined_df['Readmission national comparison'] == 'Above the National average') | \n",
    "    (combined_df['Readmission national comparison'] == 'Above the national average')\n",
    "]\n",
    "# Group by Year, City, State, and Facility Name to count the number of \"Yes\" responses\n",
    "response_counts = emergency_services_df.groupby(['Year', 'City', 'State', 'Facility Name', 'Readmission national comparison']).size().reset_index(name='Count')\n",
    "\n",
    "# For each Year, find the facility with the highest \"Yes Count\" (and include City and State)\n",
    "top_facilities = response_counts.loc[response_counts.groupby(['Year'])['Count'].idxmax()]\n",
    "\n",
    "# Display the top facilities with the highest \"Yes\" responses by Year, City, and State\n",
    "print(top_facilities)"
   ]
  },
  {
   "cell_type": "code",
   "execution_count": 53,
   "id": "446131a7-8856-4087-9906-692a0068a0a5",
   "metadata": {},
   "outputs": [
    {
     "name": "stdout",
     "output_type": "stream",
     "text": [
      "           Year       City State  \\\n",
      "1432 2016-01-01      OMAHA    NE   \n",
      "2132 2017-01-01  ABBEVILLE    LA   \n",
      "4246 2018-01-01  ABBEVILLE    SC   \n",
      "5219 2019-01-01  ABBEVILLE    SC   \n",
      "6222 2020-01-01  ABBEVILLE    SC   \n",
      "\n",
      "                                          Facility Name  \\\n",
      "1432  CHI HLTH CREIGHTON UNIVERSITY MED CTR-BERGAN M...   \n",
      "2132                         ABBEVILLE GENERAL HOSPITAL   \n",
      "4246                      ABBEVILLE AREA MEDICAL CENTER   \n",
      "5219                      ABBEVILLE AREA MEDICAL CENTER   \n",
      "6222                      ABBEVILLE AREA MEDICAL CENTER   \n",
      "\n",
      "     Readmission national comparison  Count  \n",
      "1432    Same as the National average    110  \n",
      "2132    Same as the national average     55  \n",
      "4246    Same as the national average     50  \n",
      "5219    Same as the national average     93  \n",
      "6222    Same as the national average     93  \n"
     ]
    }
   ],
   "source": [
    "# Filter the dataframe to include only hospitals with \"Yes\" for Emergency Services\n",
    "emergency_services_df = combined_df[\n",
    "    (combined_df['Readmission national comparison'] == 'Same as the national average') | \n",
    "    (combined_df['Readmission national comparison'] == 'Same as the National average')\n",
    "]\n",
    "# Group by Year, City, State, and Facility Name to count the number of \"Yes\" responses\n",
    "response_counts = emergency_services_df.groupby(['Year', 'City', 'State', 'Facility Name', 'Readmission national comparison']).size().reset_index(name='Count')\n",
    "\n",
    "# For each Year, find the facility with the highest \"Yes Count\" (and include City and State)\n",
    "top_facilities = response_counts.loc[response_counts.groupby(['Year'])['Count'].idxmax()]\n",
    "\n",
    "# Display the top facilities with the highest \"Yes\" responses by Year, City, and State\n",
    "print(top_facilities)"
   ]
  },
  {
   "cell_type": "code",
   "execution_count": 54,
   "id": "f071593a-12d8-4dd7-8b72-65a21177177d",
   "metadata": {},
   "outputs": [
    {
     "name": "stdout",
     "output_type": "stream",
     "text": [
      "           Year      City State                    Facility Name  \\\n",
      "0    2016-01-01  ABERDEEN    WA  GRAYS HARBOR COMMUNITY HOSPITAL   \n",
      "1084 2017-01-01  ABERDEEN    WA  GRAYS HARBOR COMMUNITY HOSPITAL   \n",
      "2162 2018-01-01  ABERDEEN    WA  GRAYS HARBOR COMMUNITY HOSPITAL   \n",
      "3278 2019-01-01  ABERDEEN    WA  GRAYS HARBOR COMMUNITY HOSPITAL   \n",
      "4371 2020-01-01  ABERDEEN    WA  GRAYS HARBOR COMMUNITY HOSPITAL   \n",
      "\n",
      "     Patient experience national comparison  Count  \n",
      "0                Below the National average     55  \n",
      "1084             Below the national average     55  \n",
      "2162             Below the national average     50  \n",
      "3278             Below the national average     93  \n",
      "4371             Below the national average     93  \n"
     ]
    }
   ],
   "source": [
    "# Filter the dataframe to include only hospitals with \"Yes\" for Emergency Services\n",
    "emergency_services_df = combined_df[\n",
    "    (combined_df['Patient experience national comparison'] == 'Below the National average') | \n",
    "    (combined_df['Patient experience national comparison'] == 'Below the national average')\n",
    "]\n",
    "# Group by Year, City, State, and Facility Name to count the number of \"Yes\" responses\n",
    "response_counts = emergency_services_df.groupby(['Year', 'City', 'State', 'Facility Name', 'Patient experience national comparison']).size().reset_index(name='Count')\n",
    "\n",
    "# For each Year, find the facility with the highest \"Yes Count\" (and include City and State)\n",
    "top_facilities = response_counts.loc[response_counts.groupby(['Year'])['Count'].idxmax()]\n",
    "\n",
    "# Display the top facilities with the highest \"Yes\" responses by Year, City, and State\n",
    "print(top_facilities)\n",
    "\n"
   ]
  },
  {
   "cell_type": "code",
   "execution_count": 56,
   "id": "07ae4b31-5cc2-4bf7-b5b4-d259bf658a8d",
   "metadata": {},
   "outputs": [
    {
     "name": "stdout",
     "output_type": "stream",
     "text": [
      "           Year       City State                    Facility Name  \\\n",
      "0    2016-01-01  ABBEVILLE    SC    ABBEVILLE AREA MEDICAL CENTER   \n",
      "1217 2017-01-01  ABBEVILLE    SC    ABBEVILLE AREA MEDICAL CENTER   \n",
      "2430 2018-01-01   ABERDEEN    SD  SANFORD ABERDEEN MEDICAL CENTER   \n",
      "3641 2019-01-01  ABBEVILLE    SC    ABBEVILLE AREA MEDICAL CENTER   \n",
      "4813 2020-01-01   ABERDEEN    SD                   AVERA ST LUKES   \n",
      "\n",
      "     Patient experience national comparison  Count  \n",
      "0                Above the National average     55  \n",
      "1217             Above the national average     55  \n",
      "2430             Above the national average     50  \n",
      "3641             Above the national average     93  \n",
      "4813             Above the national average     93  \n"
     ]
    }
   ],
   "source": [
    "# Filter the dataframe to include only hospitals with \"Yes\" for Emergency Services\n",
    "emergency_services_df = combined_df[\n",
    "    (combined_df['Patient experience national comparison'] == 'Above the National average') | \n",
    "    (combined_df['Patient experience national comparison'] == 'Above the national average')\n",
    "]\n",
    "# Group by Year, City, State, and Facility Name to count the number of \"Yes\" responses\n",
    "response_counts = emergency_services_df.groupby(['Year', 'City', 'State', 'Facility Name', 'Patient experience national comparison']).size().reset_index(name='Count')\n",
    "\n",
    "# For each Year, find the facility with the highest \"Yes Count\" (and include City and State)\n",
    "top_facilities = response_counts.loc[response_counts.groupby(['Year'])['Count'].idxmax()]\n",
    "\n",
    "# Display the top facilities with the highest \"Yes\" responses by Year, City, and State\n",
    "print(top_facilities)"
   ]
  },
  {
   "cell_type": "code",
   "execution_count": 57,
   "id": "497ed745-019b-4063-bd88-24c5116da0de",
   "metadata": {},
   "outputs": [
    {
     "name": "stdout",
     "output_type": "stream",
     "text": [
      "           Year       City State               Facility Name  \\\n",
      "0    2016-01-01  ABBEVILLE    LA  ABBEVILLE GENERAL HOSPITAL   \n",
      "1153 2017-01-01  ABBEVILLE    LA  ABBEVILLE GENERAL HOSPITAL   \n",
      "2299 2018-01-01  ABBEVILLE    LA  ABBEVILLE GENERAL HOSPITAL   \n",
      "3445 2019-01-01  ABBEVILLE    LA  ABBEVILLE GENERAL HOSPITAL   \n",
      "4598 2020-01-01  ABBEVILLE    LA  ABBEVILLE GENERAL HOSPITAL   \n",
      "\n",
      "     Patient experience national comparison  Count  \n",
      "0              Same as the National average     55  \n",
      "1153           Same as the national average     55  \n",
      "2299           Same as the national average     50  \n",
      "3445           Same as the national average     93  \n",
      "4598           Same as the national average     93  \n"
     ]
    }
   ],
   "source": [
    "# Filter the dataframe to include only hospitals with \"Yes\" for Emergency Services\n",
    "emergency_services_df = combined_df[\n",
    "    (combined_df['Patient experience national comparison'] == 'Same as the national average') | \n",
    "    (combined_df['Patient experience national comparison'] == 'Same as the National average')\n",
    "]\n",
    "# Group by Year, City, State, and Facility Name to count the number of \"Yes\" responses\n",
    "response_counts = emergency_services_df.groupby(['Year', 'City', 'State', 'Facility Name', 'Patient experience national comparison']).size().reset_index(name='Count')\n",
    "\n",
    "# For each Year, find the facility with the highest \"Yes Count\" (and include City and State)\n",
    "top_facilities = response_counts.loc[response_counts.groupby(['Year'])['Count'].idxmax()]\n",
    "\n",
    "# Display the top facilities with the highest \"Yes\" responses by Year, City, and State\n",
    "print(top_facilities)"
   ]
  },
  {
   "cell_type": "code",
   "execution_count": 58,
   "id": "274bc48b-cfd4-4532-8a09-c45ac1a7a763",
   "metadata": {},
   "outputs": [
    {
     "name": "stdout",
     "output_type": "stream",
     "text": [
      "           Year       City State                     Facility Name  \\\n",
      "0    2016-01-01     ALBANY    GA   PHOEBE PUTNEY MEMORIAL HOSPITAL   \n",
      "245  2017-01-01     ALBANY    GA   PHOEBE PUTNEY MEMORIAL HOSPITAL   \n",
      "485  2018-01-01    ABILENE    TX           HENDRICK MEDICAL CENTER   \n",
      "732  2019-01-01  AGUADILLA    PR  HOSP COMUNITARIO BUEN SAMARITANO   \n",
      "1039 2020-01-01      AKRON    OH      AKRON GENERAL MEDICAL CENTER   \n",
      "\n",
      "     Effectiveness of care national comparison  Count  \n",
      "0                   Below the National average     55  \n",
      "245                 Below the national average     55  \n",
      "485                 Below the national average     50  \n",
      "732                 Below the national average     93  \n",
      "1039                Below the national average     93  \n"
     ]
    }
   ],
   "source": [
    "# Filter the dataframe to include only hospitals with \"Yes\" for Emergency Services\n",
    "emergency_services_df = combined_df[\n",
    "    (combined_df['Effectiveness of care national comparison'] == 'Below the National average') | \n",
    "    (combined_df['Effectiveness of care national comparison'] == 'Below the national average')\n",
    "]\n",
    "# Group by Year, City, State, and Facility Name to count the number of \"Yes\" responses\n",
    "response_counts = emergency_services_df.groupby(['Year', 'City', 'State', 'Facility Name', 'Effectiveness of care national comparison']).size().reset_index(name='Count')\n",
    "\n",
    "# For each Year, find the facility with the highest \"Yes Count\" (and include City and State)\n",
    "top_facilities = response_counts.loc[response_counts.groupby(['Year'])['Count'].idxmax()]\n",
    "\n",
    "# Display the top facilities with the highest \"Yes\" responses by Year, City, and State\n",
    "print(top_facilities)"
   ]
  },
  {
   "cell_type": "code",
   "execution_count": 59,
   "id": "96bbafd5-3172-4bab-bba8-b6f94fe4ef0d",
   "metadata": {},
   "outputs": [
    {
     "name": "stdout",
     "output_type": "stream",
     "text": [
      "          Year        City State                    Facility Name  \\\n",
      "0   2016-01-01  ALEXANDRIA    LA  RAPIDES REGIONAL MEDICAL CENTER   \n",
      "130 2017-01-01  ALEXANDRIA    LA  RAPIDES REGIONAL MEDICAL CENTER   \n",
      "260 2018-01-01     AUGUSTA    ME      MAINEGENERAL MEDICAL CENTER   \n",
      "330 2019-01-01        AIEA    HI         PALI MOMI MEDICAL CENTER   \n",
      "483 2020-01-01        AIEA    HI         PALI MOMI MEDICAL CENTER   \n",
      "\n",
      "    Effectiveness of care national comparison  Count  \n",
      "0                  Above the National average     55  \n",
      "130                Above the national average     55  \n",
      "260                Above the national average     50  \n",
      "330                Above the national average     93  \n",
      "483                Above the national average     93  \n"
     ]
    }
   ],
   "source": [
    "# Filter the dataframe to include only hospitals with \"Yes\" for Emergency Services\n",
    "emergency_services_df = combined_df[\n",
    "    (combined_df['Effectiveness of care national comparison'] == 'Above the National average') | \n",
    "    (combined_df['Effectiveness of care national comparison'] == 'Above the national average')\n",
    "]\n",
    "# Group by Year, City, State, and Facility Name to count the number of \"Yes\" responses\n",
    "response_counts = emergency_services_df.groupby(['Year', 'City', 'State', 'Facility Name', 'Effectiveness of care national comparison']).size().reset_index(name='Count')\n",
    "\n",
    "# For each Year, find the facility with the highest \"Yes Count\" (and include City and State)\n",
    "top_facilities = response_counts.loc[response_counts.groupby(['Year'])['Count'].idxmax()]\n",
    "\n",
    "# Display the top facilities with the highest \"Yes\" responses by Year, City, and State\n",
    "print(top_facilities)"
   ]
  },
  {
   "cell_type": "code",
   "execution_count": 60,
   "id": "54bce29e-502b-4f9e-9751-a7bb5ef5df47",
   "metadata": {},
   "outputs": [
    {
     "name": "stdout",
     "output_type": "stream",
     "text": [
      "            Year       City State  \\\n",
      "2175  2016-01-01      OMAHA    NE   \n",
      "3251  2017-01-01  ABBEVILLE    LA   \n",
      "6482  2018-01-01  ABBEVILLE    LA   \n",
      "9884  2019-01-01  ABBEVILLE    LA   \n",
      "13236 2020-01-01  ABBEVILLE    LA   \n",
      "\n",
      "                                           Facility Name  \\\n",
      "2175   CHI HLTH CREIGHTON UNIVERSITY MED CTR-BERGAN M...   \n",
      "3251                          ABBEVILLE GENERAL HOSPITAL   \n",
      "6482                          ABBEVILLE GENERAL HOSPITAL   \n",
      "9884                          ABBEVILLE GENERAL HOSPITAL   \n",
      "13236                         ABBEVILLE GENERAL HOSPITAL   \n",
      "\n",
      "      Effectiveness of care national comparison  Count  \n",
      "2175               Same as the National average    110  \n",
      "3251               Same as the national average     55  \n",
      "6482               Same as the national average     50  \n",
      "9884               Same as the national average     93  \n",
      "13236              Same as the national average     93  \n"
     ]
    }
   ],
   "source": [
    "# Filter the dataframe to include only hospitals with \"Yes\" for Emergency Services\n",
    "emergency_services_df = combined_df[\n",
    "    (combined_df['Effectiveness of care national comparison'] == 'Same as the national average') | \n",
    "    (combined_df['Effectiveness of care national comparison'] == 'Same as the National average')\n",
    "]\n",
    "# Group by Year, City, State, and Facility Name to count the number of \"Yes\" responses\n",
    "response_counts = emergency_services_df.groupby(['Year', 'City', 'State', 'Facility Name', 'Effectiveness of care national comparison']).size().reset_index(name='Count')\n",
    "\n",
    "# For each Year, find the facility with the highest \"Yes Count\" (and include City and State)\n",
    "top_facilities = response_counts.loc[response_counts.groupby(['Year'])['Count'].idxmax()]\n",
    "\n",
    "# Display the top facilities with the highest \"Yes\" responses by Year, City, and State\n",
    "print(top_facilities)"
   ]
  },
  {
   "cell_type": "code",
   "execution_count": 61,
   "id": "df0c21bf-251a-4715-a1b6-71330ec85cd7",
   "metadata": {},
   "outputs": [
    {
     "name": "stdout",
     "output_type": "stream",
     "text": [
      "           Year      City State                    Facility Name  \\\n",
      "0    2016-01-01   ABILENE    TX          HENDRICK MEDICAL CENTER   \n",
      "905  2017-01-01   ABILENE    TX          HENDRICK MEDICAL CENTER   \n",
      "1809 2018-01-01  ABERDEEN    WA  GRAYS HARBOR COMMUNITY HOSPITAL   \n",
      "2801 2019-01-01  ABERDEEN    WA  GRAYS HARBOR COMMUNITY HOSPITAL   \n",
      "3855 2020-01-01  ABERDEEN    WA  GRAYS HARBOR COMMUNITY HOSPITAL   \n",
      "\n",
      "     Timeliness of care national comparison  Count  \n",
      "0                Below the National average     55  \n",
      "905              Below the national average     55  \n",
      "1809             Below the national average     50  \n",
      "2801             Below the national average     93  \n",
      "3855             Below the national average     93  \n"
     ]
    }
   ],
   "source": [
    "\n",
    "# Filter the dataframe to include only hospitals with \"Yes\" for Emergency Services\n",
    "emergency_services_df = combined_df[\n",
    "    (combined_df['Timeliness of care national comparison'] == 'Below the National average') | \n",
    "    (combined_df['Timeliness of care national comparison'] == 'Below the national average')\n",
    "]\n",
    "# Group by Year, City, State, and Facility Name to count the number of \"Yes\" responses\n",
    "response_counts = emergency_services_df.groupby(['Year', 'City', 'State', 'Facility Name', 'Timeliness of care national comparison']).size().reset_index(name='Count')\n",
    "\n",
    "# For each Year, find the facility with the highest \"Yes Count\" (and include City and State)\n",
    "top_facilities = response_counts.loc[response_counts.groupby(['Year'])['Count'].idxmax()]\n",
    "\n",
    "# Display the top facilities with the highest \"Yes\" responses by Year, City, and State\n",
    "print(top_facilities)"
   ]
  },
  {
   "cell_type": "code",
   "execution_count": 62,
   "id": "66052107-bb28-4bd6-92d6-549617635ef7",
   "metadata": {},
   "outputs": [
    {
     "name": "stdout",
     "output_type": "stream",
     "text": [
      "           Year       City State  \\\n",
      "726  2016-01-01      OMAHA    NE   \n",
      "1095 2017-01-01  ABBEVILLE    SC   \n",
      "2179 2018-01-01  ABBEVILLE    SC   \n",
      "3333 2019-01-01  ABBEVILLE    SC   \n",
      "4600 2020-01-01  ABBEVILLE    SC   \n",
      "\n",
      "                                          Facility Name  \\\n",
      "726   CHI HLTH CREIGHTON UNIVERSITY MED CTR-BERGAN M...   \n",
      "1095                      ABBEVILLE AREA MEDICAL CENTER   \n",
      "2179                      ABBEVILLE AREA MEDICAL CENTER   \n",
      "3333                      ABBEVILLE AREA MEDICAL CENTER   \n",
      "4600                      ABBEVILLE AREA MEDICAL CENTER   \n",
      "\n",
      "     Timeliness of care national comparison  Count  \n",
      "726              Above the National average    110  \n",
      "1095             Above the national average     55  \n",
      "2179             Above the national average     50  \n",
      "3333             Above the national average     93  \n",
      "4600             Above the national average     93  \n"
     ]
    }
   ],
   "source": [
    "# Filter the dataframe to include only hospitals with \"Yes\" for Emergency Services\n",
    "emergency_services_df = combined_df[\n",
    "    (combined_df['Timeliness of care national comparison'] == 'Above the National average') | \n",
    "    (combined_df['Timeliness of care national comparison'] == 'Above the national average')\n",
    "]\n",
    "# Group by Year, City, State, and Facility Name to count the number of \"Yes\" responses\n",
    "response_counts = emergency_services_df.groupby(['Year', 'City', 'State', 'Facility Name', 'Timeliness of care national comparison']).size().reset_index(name='Count')\n",
    "\n",
    "# For each Year, find the facility with the highest \"Yes Count\" (and include City and State)\n",
    "top_facilities = response_counts.loc[response_counts.groupby(['Year'])['Count'].idxmax()]\n",
    "\n",
    "# Display the top facilities with the highest \"Yes\" responses by Year, City, and State\n",
    "print(top_facilities)"
   ]
  },
  {
   "cell_type": "code",
   "execution_count": 63,
   "id": "0c417c3a-5e1f-4978-8c05-4da98eabf088",
   "metadata": {},
   "outputs": [
    {
     "name": "stdout",
     "output_type": "stream",
     "text": [
      "           Year       City State               Facility Name  \\\n",
      "0    2016-01-01  ABBEVILLE    LA  ABBEVILLE GENERAL HOSPITAL   \n",
      "1564 2017-01-01  ABBEVILLE    LA  ABBEVILLE GENERAL HOSPITAL   \n",
      "3106 2018-01-01  ABBEVILLE    LA  ABBEVILLE GENERAL HOSPITAL   \n",
      "4628 2019-01-01  ABBEVILLE    LA  ABBEVILLE GENERAL HOSPITAL   \n",
      "6053 2020-01-01  ABBEVILLE    LA  ABBEVILLE GENERAL HOSPITAL   \n",
      "\n",
      "     Timeliness of care national comparison  Count  \n",
      "0              Same as the National average     55  \n",
      "1564           Same as the national average     55  \n",
      "3106           Same as the national average     50  \n",
      "4628           Same as the national average     93  \n",
      "6053           Same as the national average     93  \n"
     ]
    }
   ],
   "source": [
    "# Filter the dataframe to include only hospitals with \"Yes\" for Emergency Services\n",
    "emergency_services_df = combined_df[\n",
    "    (combined_df['Timeliness of care national comparison'] == 'Same as the national average') | \n",
    "    (combined_df['Timeliness of care national comparison'] == 'Same as the National average')\n",
    "]\n",
    "# Group by Year, City, State, and Facility Name to count the number of \"Yes\" responses\n",
    "response_counts = emergency_services_df.groupby(['Year', 'City', 'State', 'Facility Name', 'Timeliness of care national comparison']).size().reset_index(name='Count')\n",
    "\n",
    "# For each Year, find the facility with the highest \"Yes Count\" (and include City and State)\n",
    "top_facilities = response_counts.loc[response_counts.groupby(['Year'])['Count'].idxmax()]\n",
    "\n",
    "# Display the top facilities with the highest \"Yes\" responses by Year, City, and State\n",
    "print(top_facilities)"
   ]
  },
  {
   "cell_type": "code",
   "execution_count": 64,
   "id": "14a6522d-3bfb-4592-bbf4-df8bb7bd83e4",
   "metadata": {},
   "outputs": [
    {
     "name": "stdout",
     "output_type": "stream",
     "text": [
      "           Year       City State                    Facility Name  \\\n",
      "0    2016-01-01        ADA    OK               MERCY HOSPITAL ADA   \n",
      "373  2017-01-01        ADA    OK               MERCY HOSPITAL ADA   \n",
      "743  2018-01-01  ABBEVILLE    LA       ABBEVILLE GENERAL HOSPITAL   \n",
      "1178 2019-01-01   ABERDEEN    WA  GRAYS HARBOR COMMUNITY HOSPITAL   \n",
      "1607 2020-01-01  ABBEVILLE    LA       ABBEVILLE GENERAL HOSPITAL   \n",
      "\n",
      "     Efficient use of medical imaging national comparison  Count  \n",
      "0                            Below the National average       55  \n",
      "373                          Below the national average       55  \n",
      "743                          Below the national average       50  \n",
      "1178                         Below the national average       93  \n",
      "1607                         Below the national average       93  \n"
     ]
    }
   ],
   "source": [
    "# Filter the dataframe to include only hospitals with \"Yes\" for Emergency Services\n",
    "emergency_services_df = combined_df[\n",
    "    (combined_df['Efficient use of medical imaging national comparison'] == 'Below the National average') | \n",
    "    (combined_df['Efficient use of medical imaging national comparison'] == 'Below the national average')\n",
    "]\n",
    "# Group by Year, City, State, and Facility Name to count the number of \"Yes\" responses\n",
    "response_counts = emergency_services_df.groupby(['Year', 'City', 'State', 'Facility Name', 'Efficient use of medical imaging national comparison']).size().reset_index(name='Count')\n",
    "\n",
    "# For each Year, find the facility with the highest \"Yes Count\" (and include City and State)\n",
    "top_facilities = response_counts.loc[response_counts.groupby(['Year'])['Count'].idxmax()]\n",
    "\n",
    "# Display the top facilities with the highest \"Yes\" responses by Year, City, and State\n",
    "print(top_facilities)\n",
    "\n"
   ]
  },
  {
   "cell_type": "code",
   "execution_count": 65,
   "id": "e691e63e-f892-417a-abb0-14dc5c116378",
   "metadata": {},
   "outputs": [
    {
     "name": "stdout",
     "output_type": "stream",
     "text": [
      "           Year      City State               Facility Name  \\\n",
      "0    2016-01-01  ABINGDON    VA  JOHNSTON MEMORIAL HOSPITAL   \n",
      "358  2017-01-01  ABINGDON    VA  JOHNSTON MEMORIAL HOSPITAL   \n",
      "716  2018-01-01  ABINGDON    VA  JOHNSTON MEMORIAL HOSPITAL   \n",
      "1217 2019-01-01  ABINGDON    VA  JOHNSTON MEMORIAL HOSPITAL   \n",
      "1665 2020-01-01  ABINGDON    VA  JOHNSTON MEMORIAL HOSPITAL   \n",
      "\n",
      "     Efficient use of medical imaging national comparison  Count  \n",
      "0                            Above the National average       55  \n",
      "358                          Above the national average       55  \n",
      "716                          Above the national average       50  \n",
      "1217                         Above the national average       93  \n",
      "1665                         Above the national average       93  \n"
     ]
    }
   ],
   "source": [
    "# Filter the dataframe to include only hospitals with \"Yes\" for Emergency Services\n",
    "emergency_services_df = combined_df[\n",
    "    (combined_df['Efficient use of medical imaging national comparison'] == 'Above the National average') | \n",
    "    (combined_df['Efficient use of medical imaging national comparison'] == 'Above the national average')\n",
    "]\n",
    "# Group by Year, City, State, and Facility Name to count the number of \"Yes\" responses\n",
    "response_counts = emergency_services_df.groupby(['Year', 'City', 'State', 'Facility Name', 'Efficient use of medical imaging national comparison']).size().reset_index(name='Count')\n",
    "\n",
    "# For each Year, find the facility with the highest \"Yes Count\" (and include City and State)\n",
    "top_facilities = response_counts.loc[response_counts.groupby(['Year'])['Count'].idxmax()]\n",
    "\n",
    "# Display the top facilities with the highest \"Yes\" responses by Year, City, and State\n",
    "print(top_facilities)"
   ]
  },
  {
   "cell_type": "code",
   "execution_count": 66,
   "id": "6e43ce88-35bf-4415-bda0-930239b0133c",
   "metadata": {},
   "outputs": [
    {
     "name": "stdout",
     "output_type": "stream",
     "text": [
      "           Year       City State  \\\n",
      "1377 2016-01-01      OMAHA    NE   \n",
      "2058 2017-01-01  ABBEVILLE    SC   \n",
      "4104 2018-01-01   ABERDEEN    SD   \n",
      "6081 2019-01-01  ABBEVILLE    LA   \n",
      "8246 2020-01-01  ABBEVILLE    SC   \n",
      "\n",
      "                                          Facility Name  \\\n",
      "1377  CHI HLTH CREIGHTON UNIVERSITY MED CTR-BERGAN M...   \n",
      "2058                      ABBEVILLE AREA MEDICAL CENTER   \n",
      "4104                                     AVERA ST LUKES   \n",
      "6081                         ABBEVILLE GENERAL HOSPITAL   \n",
      "8246                      ABBEVILLE AREA MEDICAL CENTER   \n",
      "\n",
      "     Efficient use of medical imaging national comparison  Count  \n",
      "1377                       Same as the National average      110  \n",
      "2058                       Same as the national average       55  \n",
      "4104                       Same as the national average       50  \n",
      "6081                       Same as the national average       93  \n",
      "8246                       Same as the national average       93  \n"
     ]
    }
   ],
   "source": [
    "# Filter the dataframe to include only hospitals with \"Yes\" for Emergency Services\n",
    "emergency_services_df = combined_df[\n",
    "    (combined_df['Efficient use of medical imaging national comparison'] == 'Same as the national average') | \n",
    "    (combined_df['Efficient use of medical imaging national comparison'] == 'Same as the National average')\n",
    "]\n",
    "# Group by Year, City, State, and Facility Name to count the number of \"Yes\" responses\n",
    "response_counts = emergency_services_df.groupby(['Year', 'City', 'State', 'Facility Name', 'Efficient use of medical imaging national comparison']).size().reset_index(name='Count')\n",
    "\n",
    "# For each Year, find the facility with the highest \"Yes Count\" (and include City and State)\n",
    "top_facilities = response_counts.loc[response_counts.groupby(['Year'])['Count'].idxmax()]\n",
    "\n",
    "# Display the top facilities with the highest \"Yes\" responses by Year, City, and State\n",
    "print(top_facilities)"
   ]
  },
  {
   "cell_type": "code",
   "execution_count": null,
   "id": "d58f1336-6d90-42bb-be5e-97005e007d65",
   "metadata": {},
   "outputs": [],
   "source": [
    "#interoperability "
   ]
  },
  {
   "cell_type": "code",
   "execution_count": 22,
   "id": "ae2e074a-0988-42b9-8a29-1cf9f8e1b5a7",
   "metadata": {},
   "outputs": [
    {
     "name": "stdout",
     "output_type": "stream",
     "text": [
      "       Year       City State               Facility Name  \\\n",
      "0      2016  ABBEVILLE    LA  ABBEVILLE GENERAL HOSPITAL   \n",
      "4373   2017  ABBEVILLE    LA  ABBEVILLE GENERAL HOSPITAL   \n",
      "9031   2018  ABBEVILLE    LA  ABBEVILLE GENERAL HOSPITAL   \n",
      "13646  2019  ABBEVILLE    LA  ABBEVILLE GENERAL HOSPITAL   \n",
      "17356  2020  ABBEVILLE    LA  ABBEVILLE GENERAL HOSPITAL   \n",
      "\n",
      "      Meets criteria for promoting interoperability of EHRs  Count  \n",
      "0                                                      Y        55  \n",
      "4373                                                   Y        55  \n",
      "9031                                                   Y        50  \n",
      "13646                                                  Y        93  \n",
      "17356                                                  Y        93  \n"
     ]
    }
   ],
   "source": [
    "# Filter the dataframe to include only hospitals with \"Yes\" for Interoperability \n",
    "emergency_services_df = combined_df[\n",
    "    (combined_df['Meets criteria for promoting interoperability of EHRs'] == 'Y') | \n",
    "    (combined_df['Meets criteria for promoting interoperability of EHRs'] == 'Yes')\n",
    "]\n",
    "# Group by Year, City, State, and Facility Name to count the number of \"Yes\" responses\n",
    "response_counts = emergency_services_df.groupby(['Year', 'City', 'State', 'Facility Name', 'Meets criteria for promoting interoperability of EHRs']).size().reset_index(name='Count')\n",
    "\n",
    "# For each Year, find the facility with the highest \"Yes Count\" (and include City and State)\n",
    "top_facilities = response_counts.loc[response_counts.groupby(['Year'])['Count'].idxmax()]\n",
    "\n",
    "# Display the top facilities with the highest \"Yes\" responses by Year, City, and State\n",
    "print(top_facilities)"
   ]
  },
  {
   "cell_type": "code",
   "execution_count": 23,
   "id": "1d306c82-7b8b-44e3-81c8-0f69399ad8c8",
   "metadata": {},
   "outputs": [
    {
     "name": "stdout",
     "output_type": "stream",
     "text": [
      "   Year       City State                         Facility Name  \\\n",
      "0  2017  BALTIMORE    MD  JOHNS HOPKINS BAYVIEW MEDICAL CENTER   \n",
      "\n",
      "  Meets criteria for promoting interoperability of EHRs  Count  \n",
      "0                                      Not Available        55  \n"
     ]
    }
   ],
   "source": [
    "# Filter the dataframe to include only hospitals with \"Yes\" for Interoperability \n",
    "emergency_services_df = combined_df[\n",
    "    (combined_df['Meets criteria for promoting interoperability of EHRs'] == 'Not Available')\n",
    "#| \n",
    "#    (combined_df['Meets criteria for promoting interoperability of EHRs'] == 'Yes')\n",
    "]\n",
    "# Group by Year, City, State, and Facility Name to count the number of \"Yes\" responses\n",
    "response_counts = emergency_services_df.groupby(['Year', 'City', 'State', 'Facility Name', 'Meets criteria for promoting interoperability of EHRs']).size().reset_index(name='Count')\n",
    "\n",
    "# For each Year, find the facility with the highest \"Yes Count\" (and include City and State)\n",
    "top_facilities = response_counts.loc[response_counts.groupby(['Year'])['Count'].idxmax()]\n",
    "\n",
    "# Display the top facilities with the highest \"Yes\" responses by Year, City, and State\n",
    "print(top_facilities)"
   ]
  },
  {
   "cell_type": "markdown",
   "id": "7bf4e1d6-fa41-4d77-bc2e-be8c6d661191",
   "metadata": {},
   "source": [
    "## Graficas"
   ]
  },
  {
   "cell_type": "code",
   "execution_count": 24,
   "id": "336aab84-7a71-4e98-b9d9-8a74f16e1c89",
   "metadata": {},
   "outputs": [
    {
     "data": {
      "image/png": "[encoded data removed]",
      "text/plain": [
       "<Figure size 1000x600 with 1 Axes>"
      ]
     },
     "metadata": {},
     "output_type": "display_data"
    }
   ],
   "source": [
    "import matplotlib.pyplot as plt\n",
    "\n",
    "# Get the value counts of the states\n",
    "state_counts = combined_df[\"State\"].value_counts()\n",
    "\n",
    "# Get the top 25 states and their counts\n",
    "states = state_counts.keys().to_list()[:25]\n",
    "count = state_counts.to_list()[:25]\n",
    "\n",
    "# Add the next 5 backward states and their counts (from index 25 onwards)\n",
    "backward_states = state_counts.keys().to_list()[25:30]\n",
    "backward_counts = state_counts.to_list()[25:30]\n",
    "\n",
    "# Append the backward states and counts\n",
    "states.extend(backward_states)\n",
    "count.extend(backward_counts)\n",
    "\n",
    "# Plot the bar chart\n",
    "fig, ax = plt.subplots(figsize=(10, 6))\n",
    "\n",
    "ax.bar(states, count, color='#316395')\n",
    "\n",
    "# Add vertical line at 25th state\n",
    "ax.axvline(x=25, color='#DC3912', linestyle='--', linewidth=2)\n",
    "\n",
    "# Add annotations for the backward states\n",
    "for i, state in enumerate(states[25:30]):\n",
    "    ax.text(i + 25, count[i + 25] + 200, str(count[i + 25]), ha='center', fontweight='bold')\n",
    "\n",
    "# Set labels and title\n",
    "ax.set_xlabel('State', fontsize=18, fontweight='bold')\n",
    "ax.set_ylabel('Count', fontsize=18, fontweight='bold')\n",
    "ax.set_title('Hospitals from which <b>states</b> have <b>the most records</b> in the dataset? <br><sup>Top 25 states by number of mentions in dataset and 5 most backward states</sup>', fontsize=14)\n",
    "\n",
    "# Rotate x labels for better readability\n",
    "plt.xticks(rotation=90)\n",
    "\n",
    "# Display the plot\n",
    "plt.tight_layout()\n",
    "plt.show()\n"
   ]
  },
  {
   "cell_type": "code",
   "execution_count": 25,
   "id": "45e451ad-1f1f-43b3-875f-799b105d704b",
   "metadata": {},
   "outputs": [
    {
     "data": {
      "image/png": "[encoded data removed]",
      "text/plain": [
       "<Figure size 1000x600 with 1 Axes>"
      ]
     },
     "metadata": {},
     "output_type": "display_data"
    }
   ],
   "source": [
    "\n",
    "# Get the value counts of the hospital types\n",
    "count = combined_df[\"Hospital Type\"].value_counts().values\n",
    "types = combined_df[\"Hospital Type\"].value_counts().keys()\n",
    "\n",
    "# Calculate the cumulative percentage\n",
    "types_cumpercent = count.cumsum() / count.sum() * 100\n",
    "\n",
    "# Plot the bar chart\n",
    "fig, ax = plt.subplots(figsize=(10, 6))\n",
    "\n",
    "ax.bar(types, count, color='#316395')\n",
    "\n",
    "# Add a cumulative percentage annotation for the first bar\n",
    "ax.text(0, count[0] + 200, f'{round(types_cumpercent[0])}%', ha='center', fontweight='bold')\n",
    "\n",
    "# Set labels and title\n",
    "ax.set_xlabel('Hospital Type', fontsize=18, fontweight='bold')\n",
    "ax.set_ylabel('Count', fontsize=18, fontweight='bold')\n",
    "ax.set_title(f'Hospitals of <b>what type are most widespread</b> in the USA? <br><sup><b>Acute Care Hospitals</b> accounts for about <b>{round(types_cumpercent[0])}%</b> of total number</sup>', fontsize=14)\n",
    "\n",
    "# Rotate x labels for better readability\n",
    "plt.xticks(rotation=45)\n",
    "\n",
    "# Display the plot\n",
    "plt.tight_layout()\n",
    "plt.show()\n"
   ]
  },
  {
   "cell_type": "code",
   "execution_count": 18,
   "id": "b76590a2-a891-4685-a9a5-c4fbbaa7e4eb",
   "metadata": {},
   "outputs": [],
   "source": [
    "#mejorar:"
   ]
  },
  {
   "cell_type": "code",
   "execution_count": null,
   "id": "dc1fb99d-7b51-445b-b47b-3c8e9c93883f",
   "metadata": {},
   "outputs": [],
   "source": [
    "# dataset with info about each unique hospital\n",
    "#'Hospital Type', 'Hospital Ownership', 'Emergency Services',\n",
    "hospital_type = []\n",
    "hospital_ownership = []\n",
    "    \n",
    "for hospital in tqdm(data[\"Facility Name\"].unique()):\n",
    "    hospital_type.append(data[\"Hospital Type\"][data[\"Facility Name\"] == hospital].to_list()[0])\n",
    "    hospital_ownership.append(data[\"Hospital Ownership\"][data[\"Facility Name\"] == hospital].to_list()[0])\n",
    "    \n",
    "unique_hospital_data = pd.DataFrame({\"Hospital Name\" : data[\"Facility Name\"].unique(), \"Hospital Type\" : hospital_type,\n",
    "                                     \"Hospital Ownership\" : hospital_ownership})\n",
    "\n",
    "unique_hospital_data"
   ]
  },
  {
   "cell_type": "code",
   "execution_count": null,
   "id": "3f5b30b9-8aba-4e3b-b562-4e14a4da0c81",
   "metadata": {},
   "outputs": [],
   "source": [
    "'''# lets concatenate similar types of ownership in groups\n",
    "\n",
    "ownership_groups = {\"Voluntary non-profit - Private\" : \"Voluntary non-profit\",  \"Voluntary non-profit - Other\" : \"Voluntary non-profit\", \"Voluntary non-profit - Church\" : \"Voluntary non-profit\",\n",
    "                    \"Proprietary\" : \"Proprietary\", \"Physician\" : \"Proprietary\", \"Tribal\" : \"Proprietary\",\n",
    "                    \"Department of Defense\" : \"Government\", \"Government - Hospital District or Authority\" : \"Government\", \"Government - Local\" : \"Government\", \"Government - State\" : \"Government\", \"Government - Federal\" : \"Government\"}\n",
    "\n",
    "combined_df[\"Hospital Ownership Group\"] = combined_df[\"Hospital Ownership\"].map(ownership_groups)\n",
    "combined_df\n",
    "'''"
   ]
  },
  {
   "cell_type": "code",
   "execution_count": null,
   "id": "5f80add8-c2cc-48a5-8baa-b2bd0b335c7e",
   "metadata": {},
   "outputs": [],
   "source": [
    "# Convert 'Year' to datetime (if not already in correct format)\n",
    "combined_df['Year'] = pd.to_datetime(combined_df['Year'], format='%Y')\n",
    "\n",
    "# Check for missing values\n",
    "missing_data = combined_df.isnull().sum()\n",
    "\n",
    "# Descriptive stats for survey star ratings\n",
    "combined_df['Patient Survey Star Rating'] = pd.to_numeric(combined_df['Patient Survey Star Rating'], errors='coerce')\n",
    "survey_star_stats = combined_df['Patient Survey Star Rating'].describe()\n",
    "\n",
    "# Average patient satisfaction by year\n",
    "avg_satisfaction_by_year = combined_df.groupby('Year')['Patient Survey Star Rating'].mean()\n",
    "\n",
    "# Plot the trend of patient satisfaction by year\n",
    "plt.figure(figsize=(10,6))\n",
    "plt.plot(avg_satisfaction_by_year, marker='o', linestyle='-', color='b')\n",
    "plt.title('Average Patient Satisfaction by Year')\n",
    "plt.xlabel('Year')\n",
    "plt.ylabel('Average Survey Star Rating')\n",
    "plt.grid(True)\n",
    "plt.show()\n",
    "\n",
    "# Compare satisfaction by hospital ownership\n",
    "ownership_satisfaction = combined_df.groupby('Hospital Ownership')['Patient Survey Star Rating'].mean()\n",
    "\n",
    "# Bar chart showing average satisfaction by hospital ownership\n",
    "plt.figure(figsize=(10,6))\n",
    "ownership_satisfaction.plot(kind='bar', color='green')\n",
    "plt.title('Average Patient Satisfaction by Hospital Ownership')\n",
    "plt.ylabel('Average Survey Star Rating')\n",
    "plt.xlabel('Hospital Ownership')\n",
    "plt.xticks(rotation=90)\n",
    "plt.grid(True)\n",
    "plt.show()\n"
   ]
  },
  {
   "cell_type": "code",
   "execution_count": 19,
   "id": "71159601-f21d-4d13-b0eb-13cfdfcb17a8",
   "metadata": {},
   "outputs": [
    {
     "name": "stdout",
     "output_type": "stream",
     "text": [
      "Emergency Services\n",
      "Yes    1534987\n",
      "No      118696\n",
      "Name: count, dtype: int64\n"
     ]
    },
    {
     "data": {
      "image/png": "[encoded data removed]",
      "text/plain": [
       "<Figure size 1000x600 with 1 Axes>"
      ]
     },
     "metadata": {},
     "output_type": "display_data"
    }
   ],
   "source": [
    "# Get the value counts for the 'Emergency Services' column\n",
    "emergency_services_counts = combined_df['Emergency Services'].value_counts()\n",
    "\n",
    "# Display the most common values\n",
    "print(emergency_services_counts)\n",
    "\n",
    "# Optionally, plot the counts as a bar chart for better visualization\n",
    "import matplotlib.pyplot as plt\n",
    "\n",
    "# Plot the most common values in 'Emergency Services'\n",
    "plt.figure(figsize=(10, 6))\n",
    "emergency_services_counts.plot(kind='bar', color='skyblue')\n",
    "plt.title('Most Common Emergency Services Availability', fontsize=14)\n",
    "plt.xlabel('Emergency Services', fontsize=12)\n",
    "plt.ylabel('Count', fontsize=12)\n",
    "plt.xticks(rotation=45)\n",
    "plt.show()\n"
   ]
  },
  {
   "cell_type": "code",
   "execution_count": null,
   "id": "8614b421-7588-4b7d-aa28-e46e8fd3a57f",
   "metadata": {},
   "outputs": [],
   "source": []
  }
 ],
 "metadata": {
  "kernelspec": {
   "display_name": "Python 3 (ipykernel)",
   "language": "python",
   "name": "python3"
  },
  "language_info": {
   "codemirror_mode": {
    "name": "ipython",
    "version": 3
   },
   "file_extension": ".py",
   "mimetype": "text/x-python",
   "name": "python",
   "nbconvert_exporter": "python",
   "pygments_lexer": "ipython3",
   "version": "3.11.10"
  }
 },
 "nbformat": 4,
 "nbformat_minor": 5
}
